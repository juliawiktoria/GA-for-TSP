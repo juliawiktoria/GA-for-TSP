{
  "nbformat": 4,
  "nbformat_minor": 0,
  "metadata": {
    "colab": {
      "provenance": [],
      "collapsed_sections": [
        "L0qKXlKcQQk2"
      ],
      "mount_file_id": "1xbHUPU6WROWWjTRFFsg_e1L2u7GSx9CP",
      "authorship_tag": "ABX9TyOgI0HdUI52hzwQAF7h/o1A"
    },
    "kernelspec": {
      "name": "python3",
      "display_name": "Python 3"
    },
    "language_info": {
      "name": "python"
    }
  },
  "cells": [
    {
      "cell_type": "code",
      "execution_count": 1,
      "metadata": {
        "id": "uyshdokgohd2"
      },
      "outputs": [],
      "source": [
        "import random\n",
        "import matplotlib.pyplot as plt\n",
        "from itertools import chain, zip_longest, groupby\n",
        "import csv\n",
        "import numpy as np\n",
        "import pandas as pd"
      ]
    },
    {
      "cell_type": "markdown",
      "source": [
        "# Data preprocessing and representation"
      ],
      "metadata": {
        "id": "v2YIybGWQDU_"
      }
    },
    {
      "cell_type": "code",
      "source": [
        "with open('/content/drive/MyDrive/tsp/tsp_info/tsp_names.txt') as file:\n",
        "    tsp_file_names = [line.rstrip() for line in file]"
      ],
      "metadata": {
        "id": "RuY9UrcSPc72"
      },
      "execution_count": 2,
      "outputs": []
    },
    {
      "cell_type": "code",
      "source": [
        "print(tsp_file_names)"
      ],
      "metadata": {
        "colab": {
          "base_uri": "https://localhost:8080/"
        },
        "id": "fttRpThsdZpf",
        "outputId": "317a826c-045d-4208-e810-c2a4c156da38"
      },
      "execution_count": 3,
      "outputs": [
        {
          "output_type": "stream",
          "name": "stdout",
          "text": [
            "['a280.tsp', 'ali535.tsp', 'att48.tsp', 'att532.tsp', 'bayg29.tsp', 'bays29.tsp', 'berlin52.tsp', 'bier127.tsp', 'brazil58.tsp', 'brd14051.tsp', 'brg180.tsp', 'burma14.tsp', 'ch130.tsp', 'ch150.tsp', 'd1291.tsp', 'd15112.tsp', 'd1655.tsp', 'd18512.tsp', 'd198.tsp', 'd2103.tsp', 'd493.tsp', 'd657.tsp', 'dantzig42.tsp', 'dsj1000.tsp', 'eil101.tsp', 'eil51.tsp', 'eil76.tsp', 'fl1400.tsp', 'fl1577.tsp', 'fl3795.tsp', 'fl417.tsp', 'fnl4461.tsp', 'fri26.tsp', 'gil262.tsp', 'gr120.tsp', 'gr137.tsp', 'gr17.tsp', 'gr202.tsp', 'gr21.tsp', 'gr229.tsp', 'gr24.tsp', 'gr431.tsp', 'gr48.tsp', 'gr666.tsp', 'gr96.tsp', 'hk48.tsp', 'kroA100.tsp', 'kroA150.tsp', 'kroA200.tsp', 'kroB100.tsp', 'kroB150.tsp', 'kroB200.tsp', 'kroC100.tsp', 'kroD100.tsp', 'kroE100.tsp', 'lin105.tsp', 'lin318.tsp', 'linhp318.tsp', 'nrw1379.tsp', 'p654.tsp', 'pa561.tsp', 'pcb1173.tsp', 'pcb3038.tsp', 'pcb442.tsp', 'pla33810.tsp', 'pla7397.tsp', 'pla85900.tsp', 'pr1002.tsp', 'pr107.tsp', 'pr124.tsp', 'pr136.tsp', 'pr144.tsp', 'pr152.tsp', 'pr226.tsp', 'pr2392.tsp', 'pr264.tsp', 'pr299.tsp', 'pr439.tsp', 'pr76.tsp', 'rat195.tsp', 'rat575.tsp', 'rat783.tsp', 'rat99.tsp', 'rd100.tsp', 'rd400.tsp', 'rl11849.tsp', 'rl1304.tsp', 'rl1323.tsp', 'rl1889.tsp', 'rl5915.tsp', 'rl5934.tsp', 'si1032.tsp', 'si175.tsp', 'si535.tsp', 'st70.tsp', 'swiss42.tsp', 'ts225.tsp', 'tsp225.tsp', 'u1060.tsp', 'u1432.tsp', 'u159.tsp', 'u1817.tsp', 'u2152.tsp', 'u2319.tsp', 'u574.tsp', 'u724.tsp', 'ulysses16.tsp', 'ulysses22.tsp', 'usa13509.tsp', 'vm1084.tsp', 'vm1748.tsp']\n"
          ]
        }
      ]
    },
    {
      "cell_type": "code",
      "source": [
        "datasets_coord_flags = pd.DataFrame(columns=['dataset_name', 'has_coords'])"
      ],
      "metadata": {
        "id": "6tCzpHxDZ93I"
      },
      "execution_count": 4,
      "outputs": []
    },
    {
      "cell_type": "code",
      "source": [
        "coords_substring = 'NODE_COORD_SECTION'\n",
        "\n",
        "for filename in tsp_file_names:\n",
        "    path = '/content/drive/MyDrive/tsp/tsp_problems/{}'.format(filename)\n",
        "    with open(path, 'r') as opened_file:\n",
        "        has_coords = False\n",
        "\n",
        "        if coords_substring in contents:\n",
        "            has_coords = True\n",
        "        \n",
        "        new_row = [filename, has_coords]\n",
        "        datasets_coord_flags.loc[len(datasets_coord_flags)] = new_row"
      ],
      "metadata": {
        "id": "9_PunUdTaTPe"
      },
      "execution_count": 6,
      "outputs": []
    },
    {
      "cell_type": "code",
      "source": [
        "datasets_coord_flags"
      ],
      "metadata": {
        "colab": {
          "base_uri": "https://localhost:8080/",
          "height": 424
        },
        "id": "yP2OcE4rekXu",
        "outputId": "aefcd64d-4a0c-45b9-b4f6-af8b147ab121"
      },
      "execution_count": 7,
      "outputs": [
        {
          "output_type": "execute_result",
          "data": {
            "text/plain": [
              "      dataset_name  has_coords\n",
              "0         a280.tsp        True\n",
              "1       ali535.tsp        True\n",
              "2        att48.tsp        True\n",
              "3       att532.tsp        True\n",
              "4       bayg29.tsp       False\n",
              "..             ...         ...\n",
              "128  ulysses16.tsp        True\n",
              "129  ulysses22.tsp        True\n",
              "130   usa13509.tsp        True\n",
              "131     vm1084.tsp        True\n",
              "132     vm1748.tsp        True\n",
              "\n",
              "[133 rows x 2 columns]"
            ],
            "text/html": [
              "\n",
              "  <div id=\"df-fe9d3a8a-96a8-4e12-aa85-5bda814e18b7\">\n",
              "    <div class=\"colab-df-container\">\n",
              "      <div>\n",
              "<style scoped>\n",
              "    .dataframe tbody tr th:only-of-type {\n",
              "        vertical-align: middle;\n",
              "    }\n",
              "\n",
              "    .dataframe tbody tr th {\n",
              "        vertical-align: top;\n",
              "    }\n",
              "\n",
              "    .dataframe thead th {\n",
              "        text-align: right;\n",
              "    }\n",
              "</style>\n",
              "<table border=\"1\" class=\"dataframe\">\n",
              "  <thead>\n",
              "    <tr style=\"text-align: right;\">\n",
              "      <th></th>\n",
              "      <th>dataset_name</th>\n",
              "      <th>has_coords</th>\n",
              "    </tr>\n",
              "  </thead>\n",
              "  <tbody>\n",
              "    <tr>\n",
              "      <th>0</th>\n",
              "      <td>a280.tsp</td>\n",
              "      <td>True</td>\n",
              "    </tr>\n",
              "    <tr>\n",
              "      <th>1</th>\n",
              "      <td>ali535.tsp</td>\n",
              "      <td>True</td>\n",
              "    </tr>\n",
              "    <tr>\n",
              "      <th>2</th>\n",
              "      <td>att48.tsp</td>\n",
              "      <td>True</td>\n",
              "    </tr>\n",
              "    <tr>\n",
              "      <th>3</th>\n",
              "      <td>att532.tsp</td>\n",
              "      <td>True</td>\n",
              "    </tr>\n",
              "    <tr>\n",
              "      <th>4</th>\n",
              "      <td>bayg29.tsp</td>\n",
              "      <td>False</td>\n",
              "    </tr>\n",
              "    <tr>\n",
              "      <th>...</th>\n",
              "      <td>...</td>\n",
              "      <td>...</td>\n",
              "    </tr>\n",
              "    <tr>\n",
              "      <th>128</th>\n",
              "      <td>ulysses16.tsp</td>\n",
              "      <td>True</td>\n",
              "    </tr>\n",
              "    <tr>\n",
              "      <th>129</th>\n",
              "      <td>ulysses22.tsp</td>\n",
              "      <td>True</td>\n",
              "    </tr>\n",
              "    <tr>\n",
              "      <th>130</th>\n",
              "      <td>usa13509.tsp</td>\n",
              "      <td>True</td>\n",
              "    </tr>\n",
              "    <tr>\n",
              "      <th>131</th>\n",
              "      <td>vm1084.tsp</td>\n",
              "      <td>True</td>\n",
              "    </tr>\n",
              "    <tr>\n",
              "      <th>132</th>\n",
              "      <td>vm1748.tsp</td>\n",
              "      <td>True</td>\n",
              "    </tr>\n",
              "  </tbody>\n",
              "</table>\n",
              "<p>133 rows × 2 columns</p>\n",
              "</div>\n",
              "      <button class=\"colab-df-convert\" onclick=\"convertToInteractive('df-fe9d3a8a-96a8-4e12-aa85-5bda814e18b7')\"\n",
              "              title=\"Convert this dataframe to an interactive table.\"\n",
              "              style=\"display:none;\">\n",
              "        \n",
              "  <svg xmlns=\"http://www.w3.org/2000/svg\" height=\"24px\"viewBox=\"0 0 24 24\"\n",
              "       width=\"24px\">\n",
              "    <path d=\"M0 0h24v24H0V0z\" fill=\"none\"/>\n",
              "    <path d=\"M18.56 5.44l.94 2.06.94-2.06 2.06-.94-2.06-.94-.94-2.06-.94 2.06-2.06.94zm-11 1L8.5 8.5l.94-2.06 2.06-.94-2.06-.94L8.5 2.5l-.94 2.06-2.06.94zm10 10l.94 2.06.94-2.06 2.06-.94-2.06-.94-.94-2.06-.94 2.06-2.06.94z\"/><path d=\"M17.41 7.96l-1.37-1.37c-.4-.4-.92-.59-1.43-.59-.52 0-1.04.2-1.43.59L10.3 9.45l-7.72 7.72c-.78.78-.78 2.05 0 2.83L4 21.41c.39.39.9.59 1.41.59.51 0 1.02-.2 1.41-.59l7.78-7.78 2.81-2.81c.8-.78.8-2.07 0-2.86zM5.41 20L4 18.59l7.72-7.72 1.47 1.35L5.41 20z\"/>\n",
              "  </svg>\n",
              "      </button>\n",
              "      \n",
              "  <style>\n",
              "    .colab-df-container {\n",
              "      display:flex;\n",
              "      flex-wrap:wrap;\n",
              "      gap: 12px;\n",
              "    }\n",
              "\n",
              "    .colab-df-convert {\n",
              "      background-color: #E8F0FE;\n",
              "      border: none;\n",
              "      border-radius: 50%;\n",
              "      cursor: pointer;\n",
              "      display: none;\n",
              "      fill: #1967D2;\n",
              "      height: 32px;\n",
              "      padding: 0 0 0 0;\n",
              "      width: 32px;\n",
              "    }\n",
              "\n",
              "    .colab-df-convert:hover {\n",
              "      background-color: #E2EBFA;\n",
              "      box-shadow: 0px 1px 2px rgba(60, 64, 67, 0.3), 0px 1px 3px 1px rgba(60, 64, 67, 0.15);\n",
              "      fill: #174EA6;\n",
              "    }\n",
              "\n",
              "    [theme=dark] .colab-df-convert {\n",
              "      background-color: #3B4455;\n",
              "      fill: #D2E3FC;\n",
              "    }\n",
              "\n",
              "    [theme=dark] .colab-df-convert:hover {\n",
              "      background-color: #434B5C;\n",
              "      box-shadow: 0px 1px 3px 1px rgba(0, 0, 0, 0.15);\n",
              "      filter: drop-shadow(0px 1px 2px rgba(0, 0, 0, 0.3));\n",
              "      fill: #FFFFFF;\n",
              "    }\n",
              "  </style>\n",
              "\n",
              "      <script>\n",
              "        const buttonEl =\n",
              "          document.querySelector('#df-fe9d3a8a-96a8-4e12-aa85-5bda814e18b7 button.colab-df-convert');\n",
              "        buttonEl.style.display =\n",
              "          google.colab.kernel.accessAllowed ? 'block' : 'none';\n",
              "\n",
              "        async function convertToInteractive(key) {\n",
              "          const element = document.querySelector('#df-fe9d3a8a-96a8-4e12-aa85-5bda814e18b7');\n",
              "          const dataTable =\n",
              "            await google.colab.kernel.invokeFunction('convertToInteractive',\n",
              "                                                     [key], {});\n",
              "          if (!dataTable) return;\n",
              "\n",
              "          const docLinkHtml = 'Like what you see? Visit the ' +\n",
              "            '<a target=\"_blank\" href=https://colab.research.google.com/notebooks/data_table.ipynb>data table notebook</a>'\n",
              "            + ' to learn more about interactive tables.';\n",
              "          element.innerHTML = '';\n",
              "          dataTable['output_type'] = 'display_data';\n",
              "          await google.colab.output.renderOutput(dataTable, element);\n",
              "          const docLink = document.createElement('div');\n",
              "          docLink.innerHTML = docLinkHtml;\n",
              "          element.appendChild(docLink);\n",
              "        }\n",
              "      </script>\n",
              "    </div>\n",
              "  </div>\n",
              "  "
            ]
          },
          "metadata": {},
          "execution_count": 7
        }
      ]
    },
    {
      "cell_type": "code",
      "source": [
        "coord_datasets = datasets_coord_flags[datasets_coord_flags.has_coords == True]"
      ],
      "metadata": {
        "id": "SXKOJENlh41z"
      },
      "execution_count": 8,
      "outputs": []
    },
    {
      "cell_type": "code",
      "source": [
        "coord_datasets"
      ],
      "metadata": {
        "colab": {
          "base_uri": "https://localhost:8080/",
          "height": 424
        },
        "id": "449hbQF9iMoP",
        "outputId": "b2e91c22-021f-466a-f61f-60335a5fba82"
      },
      "execution_count": 9,
      "outputs": [
        {
          "output_type": "execute_result",
          "data": {
            "text/plain": [
              "      dataset_name  has_coords\n",
              "0         a280.tsp        True\n",
              "1       ali535.tsp        True\n",
              "2        att48.tsp        True\n",
              "3       att532.tsp        True\n",
              "6     berlin52.tsp        True\n",
              "..             ...         ...\n",
              "128  ulysses16.tsp        True\n",
              "129  ulysses22.tsp        True\n",
              "130   usa13509.tsp        True\n",
              "131     vm1084.tsp        True\n",
              "132     vm1748.tsp        True\n",
              "\n",
              "[129 rows x 2 columns]"
            ],
            "text/html": [
              "\n",
              "  <div id=\"df-a73560b3-1882-4959-9dfa-15685b582537\">\n",
              "    <div class=\"colab-df-container\">\n",
              "      <div>\n",
              "<style scoped>\n",
              "    .dataframe tbody tr th:only-of-type {\n",
              "        vertical-align: middle;\n",
              "    }\n",
              "\n",
              "    .dataframe tbody tr th {\n",
              "        vertical-align: top;\n",
              "    }\n",
              "\n",
              "    .dataframe thead th {\n",
              "        text-align: right;\n",
              "    }\n",
              "</style>\n",
              "<table border=\"1\" class=\"dataframe\">\n",
              "  <thead>\n",
              "    <tr style=\"text-align: right;\">\n",
              "      <th></th>\n",
              "      <th>dataset_name</th>\n",
              "      <th>has_coords</th>\n",
              "    </tr>\n",
              "  </thead>\n",
              "  <tbody>\n",
              "    <tr>\n",
              "      <th>0</th>\n",
              "      <td>a280.tsp</td>\n",
              "      <td>True</td>\n",
              "    </tr>\n",
              "    <tr>\n",
              "      <th>1</th>\n",
              "      <td>ali535.tsp</td>\n",
              "      <td>True</td>\n",
              "    </tr>\n",
              "    <tr>\n",
              "      <th>2</th>\n",
              "      <td>att48.tsp</td>\n",
              "      <td>True</td>\n",
              "    </tr>\n",
              "    <tr>\n",
              "      <th>3</th>\n",
              "      <td>att532.tsp</td>\n",
              "      <td>True</td>\n",
              "    </tr>\n",
              "    <tr>\n",
              "      <th>6</th>\n",
              "      <td>berlin52.tsp</td>\n",
              "      <td>True</td>\n",
              "    </tr>\n",
              "    <tr>\n",
              "      <th>...</th>\n",
              "      <td>...</td>\n",
              "      <td>...</td>\n",
              "    </tr>\n",
              "    <tr>\n",
              "      <th>128</th>\n",
              "      <td>ulysses16.tsp</td>\n",
              "      <td>True</td>\n",
              "    </tr>\n",
              "    <tr>\n",
              "      <th>129</th>\n",
              "      <td>ulysses22.tsp</td>\n",
              "      <td>True</td>\n",
              "    </tr>\n",
              "    <tr>\n",
              "      <th>130</th>\n",
              "      <td>usa13509.tsp</td>\n",
              "      <td>True</td>\n",
              "    </tr>\n",
              "    <tr>\n",
              "      <th>131</th>\n",
              "      <td>vm1084.tsp</td>\n",
              "      <td>True</td>\n",
              "    </tr>\n",
              "    <tr>\n",
              "      <th>132</th>\n",
              "      <td>vm1748.tsp</td>\n",
              "      <td>True</td>\n",
              "    </tr>\n",
              "  </tbody>\n",
              "</table>\n",
              "<p>129 rows × 2 columns</p>\n",
              "</div>\n",
              "      <button class=\"colab-df-convert\" onclick=\"convertToInteractive('df-a73560b3-1882-4959-9dfa-15685b582537')\"\n",
              "              title=\"Convert this dataframe to an interactive table.\"\n",
              "              style=\"display:none;\">\n",
              "        \n",
              "  <svg xmlns=\"http://www.w3.org/2000/svg\" height=\"24px\"viewBox=\"0 0 24 24\"\n",
              "       width=\"24px\">\n",
              "    <path d=\"M0 0h24v24H0V0z\" fill=\"none\"/>\n",
              "    <path d=\"M18.56 5.44l.94 2.06.94-2.06 2.06-.94-2.06-.94-.94-2.06-.94 2.06-2.06.94zm-11 1L8.5 8.5l.94-2.06 2.06-.94-2.06-.94L8.5 2.5l-.94 2.06-2.06.94zm10 10l.94 2.06.94-2.06 2.06-.94-2.06-.94-.94-2.06-.94 2.06-2.06.94z\"/><path d=\"M17.41 7.96l-1.37-1.37c-.4-.4-.92-.59-1.43-.59-.52 0-1.04.2-1.43.59L10.3 9.45l-7.72 7.72c-.78.78-.78 2.05 0 2.83L4 21.41c.39.39.9.59 1.41.59.51 0 1.02-.2 1.41-.59l7.78-7.78 2.81-2.81c.8-.78.8-2.07 0-2.86zM5.41 20L4 18.59l7.72-7.72 1.47 1.35L5.41 20z\"/>\n",
              "  </svg>\n",
              "      </button>\n",
              "      \n",
              "  <style>\n",
              "    .colab-df-container {\n",
              "      display:flex;\n",
              "      flex-wrap:wrap;\n",
              "      gap: 12px;\n",
              "    }\n",
              "\n",
              "    .colab-df-convert {\n",
              "      background-color: #E8F0FE;\n",
              "      border: none;\n",
              "      border-radius: 50%;\n",
              "      cursor: pointer;\n",
              "      display: none;\n",
              "      fill: #1967D2;\n",
              "      height: 32px;\n",
              "      padding: 0 0 0 0;\n",
              "      width: 32px;\n",
              "    }\n",
              "\n",
              "    .colab-df-convert:hover {\n",
              "      background-color: #E2EBFA;\n",
              "      box-shadow: 0px 1px 2px rgba(60, 64, 67, 0.3), 0px 1px 3px 1px rgba(60, 64, 67, 0.15);\n",
              "      fill: #174EA6;\n",
              "    }\n",
              "\n",
              "    [theme=dark] .colab-df-convert {\n",
              "      background-color: #3B4455;\n",
              "      fill: #D2E3FC;\n",
              "    }\n",
              "\n",
              "    [theme=dark] .colab-df-convert:hover {\n",
              "      background-color: #434B5C;\n",
              "      box-shadow: 0px 1px 3px 1px rgba(0, 0, 0, 0.15);\n",
              "      filter: drop-shadow(0px 1px 2px rgba(0, 0, 0, 0.3));\n",
              "      fill: #FFFFFF;\n",
              "    }\n",
              "  </style>\n",
              "\n",
              "      <script>\n",
              "        const buttonEl =\n",
              "          document.querySelector('#df-a73560b3-1882-4959-9dfa-15685b582537 button.colab-df-convert');\n",
              "        buttonEl.style.display =\n",
              "          google.colab.kernel.accessAllowed ? 'block' : 'none';\n",
              "\n",
              "        async function convertToInteractive(key) {\n",
              "          const element = document.querySelector('#df-a73560b3-1882-4959-9dfa-15685b582537');\n",
              "          const dataTable =\n",
              "            await google.colab.kernel.invokeFunction('convertToInteractive',\n",
              "                                                     [key], {});\n",
              "          if (!dataTable) return;\n",
              "\n",
              "          const docLinkHtml = 'Like what you see? Visit the ' +\n",
              "            '<a target=\"_blank\" href=https://colab.research.google.com/notebooks/data_table.ipynb>data table notebook</a>'\n",
              "            + ' to learn more about interactive tables.';\n",
              "          element.innerHTML = '';\n",
              "          dataTable['output_type'] = 'display_data';\n",
              "          await google.colab.output.renderOutput(dataTable, element);\n",
              "          const docLink = document.createElement('div');\n",
              "          docLink.innerHTML = docLinkHtml;\n",
              "          element.appendChild(docLink);\n",
              "        }\n",
              "      </script>\n",
              "    </div>\n",
              "  </div>\n",
              "  "
            ]
          },
          "metadata": {},
          "execution_count": 9
        }
      ]
    },
    {
      "cell_type": "code",
      "source": [
        "coord_datasets_names = coord_datasets['dataset_name'].to_list()"
      ],
      "metadata": {
        "id": "IUOME2azihgw"
      },
      "execution_count": 10,
      "outputs": []
    },
    {
      "cell_type": "code",
      "source": [
        "coord_datasets_names"
      ],
      "metadata": {
        "colab": {
          "base_uri": "https://localhost:8080/"
        },
        "id": "ATdWiABviqkK",
        "outputId": "006a7fb8-9b2b-4128-fc63-c667c69df225"
      },
      "execution_count": 11,
      "outputs": [
        {
          "output_type": "execute_result",
          "data": {
            "text/plain": [
              "['a280.tsp',\n",
              " 'ali535.tsp',\n",
              " 'att48.tsp',\n",
              " 'att532.tsp',\n",
              " 'berlin52.tsp',\n",
              " 'bier127.tsp',\n",
              " 'brd14051.tsp',\n",
              " 'burma14.tsp',\n",
              " 'ch130.tsp',\n",
              " 'ch150.tsp',\n",
              " 'd1291.tsp',\n",
              " 'd15112.tsp',\n",
              " 'd1655.tsp',\n",
              " 'd18512.tsp',\n",
              " 'd198.tsp',\n",
              " 'd2103.tsp',\n",
              " 'd493.tsp',\n",
              " 'd657.tsp',\n",
              " 'a280.tsp',\n",
              " 'ali535.tsp',\n",
              " 'att48.tsp',\n",
              " 'att532.tsp',\n",
              " 'bayg29.tsp',\n",
              " 'bays29.tsp',\n",
              " 'berlin52.tsp',\n",
              " 'bier127.tsp',\n",
              " 'brazil58.tsp',\n",
              " 'brd14051.tsp',\n",
              " 'brg180.tsp',\n",
              " 'burma14.tsp',\n",
              " 'ch130.tsp',\n",
              " 'ch150.tsp',\n",
              " 'd1291.tsp',\n",
              " 'd15112.tsp',\n",
              " 'd1655.tsp',\n",
              " 'd18512.tsp',\n",
              " 'd198.tsp',\n",
              " 'd2103.tsp',\n",
              " 'd493.tsp',\n",
              " 'd657.tsp',\n",
              " 'dantzig42.tsp',\n",
              " 'dsj1000.tsp',\n",
              " 'eil101.tsp',\n",
              " 'eil51.tsp',\n",
              " 'eil76.tsp',\n",
              " 'fl1400.tsp',\n",
              " 'fl1577.tsp',\n",
              " 'fl3795.tsp',\n",
              " 'fl417.tsp',\n",
              " 'fnl4461.tsp',\n",
              " 'fri26.tsp',\n",
              " 'gil262.tsp',\n",
              " 'gr120.tsp',\n",
              " 'gr137.tsp',\n",
              " 'gr17.tsp',\n",
              " 'gr202.tsp',\n",
              " 'gr21.tsp',\n",
              " 'gr229.tsp',\n",
              " 'gr24.tsp',\n",
              " 'gr431.tsp',\n",
              " 'gr48.tsp',\n",
              " 'gr666.tsp',\n",
              " 'gr96.tsp',\n",
              " 'hk48.tsp',\n",
              " 'kroA100.tsp',\n",
              " 'kroA150.tsp',\n",
              " 'kroA200.tsp',\n",
              " 'kroB100.tsp',\n",
              " 'kroB150.tsp',\n",
              " 'kroB200.tsp',\n",
              " 'kroC100.tsp',\n",
              " 'kroD100.tsp',\n",
              " 'kroE100.tsp',\n",
              " 'lin105.tsp',\n",
              " 'lin318.tsp',\n",
              " 'linhp318.tsp',\n",
              " 'nrw1379.tsp',\n",
              " 'p654.tsp',\n",
              " 'pa561.tsp',\n",
              " 'pcb1173.tsp',\n",
              " 'pcb3038.tsp',\n",
              " 'pcb442.tsp',\n",
              " 'pla33810.tsp',\n",
              " 'pla7397.tsp',\n",
              " 'pla85900.tsp',\n",
              " 'pr1002.tsp',\n",
              " 'pr107.tsp',\n",
              " 'pr124.tsp',\n",
              " 'pr136.tsp',\n",
              " 'pr144.tsp',\n",
              " 'pr152.tsp',\n",
              " 'pr226.tsp',\n",
              " 'pr2392.tsp',\n",
              " 'pr264.tsp',\n",
              " 'pr299.tsp',\n",
              " 'pr439.tsp',\n",
              " 'pr76.tsp',\n",
              " 'rat195.tsp',\n",
              " 'rat575.tsp',\n",
              " 'rat783.tsp',\n",
              " 'rat99.tsp',\n",
              " 'rd100.tsp',\n",
              " 'rd400.tsp',\n",
              " 'rl11849.tsp',\n",
              " 'rl1304.tsp',\n",
              " 'rl1323.tsp',\n",
              " 'rl1889.tsp',\n",
              " 'rl5915.tsp',\n",
              " 'rl5934.tsp',\n",
              " 'si1032.tsp',\n",
              " 'si175.tsp',\n",
              " 'si535.tsp',\n",
              " 'st70.tsp',\n",
              " 'swiss42.tsp',\n",
              " 'ts225.tsp',\n",
              " 'tsp225.tsp',\n",
              " 'u1060.tsp',\n",
              " 'u1432.tsp',\n",
              " 'u159.tsp',\n",
              " 'u1817.tsp',\n",
              " 'u2152.tsp',\n",
              " 'u2319.tsp',\n",
              " 'u574.tsp',\n",
              " 'u724.tsp',\n",
              " 'ulysses16.tsp',\n",
              " 'ulysses22.tsp',\n",
              " 'usa13509.tsp',\n",
              " 'vm1084.tsp',\n",
              " 'vm1748.tsp']"
            ]
          },
          "metadata": {},
          "execution_count": 11
        }
      ]
    },
    {
      "cell_type": "code",
      "source": [
        "optimal_distances = pd.read_csv('/content/drive/MyDrive/tsp/tsp_info/tsp_optimal_dist.csv')"
      ],
      "metadata": {
        "id": "bMAS_9gsWbDP"
      },
      "execution_count": 12,
      "outputs": []
    },
    {
      "cell_type": "code",
      "source": [
        "class Point():\n",
        "    def __init__(self, name, x, y):\n",
        "        self.name = name\n",
        "        self.x_coord = round(float(x), 2)\n",
        "        self.y_coord = round(float(y), 2)\n",
        "    \n",
        "    def get_name(self):\n",
        "        return self.name\n",
        "\n",
        "    def get_x(self):\n",
        "        return self.x_coord\n",
        "    \n",
        "    def get_y(self):\n",
        "        return self.y_coord\n",
        "    \n",
        "    def describe(self):\n",
        "        print(\"Point {}: [{}, {}]\".format(self.name, self.x_coord, self.y_coord)) "
      ],
      "metadata": {
        "id": "6IrEJKsLpotm"
      },
      "execution_count": 13,
      "outputs": []
    },
    {
      "cell_type": "code",
      "source": [
        "class Dataset:\n",
        "    def __init__(self, name, path):\n",
        "        self.name = name\n",
        "        self.path = path\n",
        "        self.dimension = 0\n",
        "        self.distance_function = None\n",
        "        self.parse_file()\n",
        "\n",
        "    def parse_file(self):\n",
        "        print(\">>> Processing dataset {}\".format(self.name))\n",
        "\n",
        "        cities_arr = []\n",
        "\n",
        "        with open(self.path) as file:\n",
        "            lines = file.readlines()\n",
        "\n",
        "            for line in lines:\n",
        "                if line.startswith('NAME'):\n",
        "                    self.name = line.split(':')[1].strip()\n",
        "                elif line.startswith('DIMENSION'):\n",
        "                    self.dimension = int(line.split(':')[1])\n",
        "                elif line.startswith('NODE_COORD_SECTION'):\n",
        "                    coords = []\n",
        "                    for i in range(self.dimension):\n",
        "                        x, y = map(float, lines[i+1].split()[1:])\n",
        "                        coords.append((x, y))\n",
        "                    self.data = coords\n",
        "    \n",
        "    def get_cities(self) -> list:\n",
        "        return self.data\n",
        "    \n",
        "    def get_name(self):\n",
        "        return self.name\n",
        "\n",
        "    def get_path(self):\n",
        "        return self.path"
      ],
      "metadata": {
        "id": "_SQ6BTpOpvja"
      },
      "execution_count": 41,
      "outputs": []
    },
    {
      "cell_type": "code",
      "source": [
        "for elem in coord_datasets_names:\n",
        "    print(\">>> {}\".format(elem))"
      ],
      "metadata": {
        "colab": {
          "base_uri": "https://localhost:8080/"
        },
        "id": "e4UcRp_QiwWy",
        "outputId": "ac1e9ca7-70fc-4435-fddb-24da65121a09"
      },
      "execution_count": 40,
      "outputs": [
        {
          "output_type": "stream",
          "name": "stdout",
          "text": [
            ">>> a280.tsp\n",
            ">>> ali535.tsp\n",
            ">>> att48.tsp\n",
            ">>> att532.tsp\n",
            ">>> berlin52.tsp\n",
            ">>> bier127.tsp\n",
            ">>> brd14051.tsp\n",
            ">>> burma14.tsp\n",
            ">>> ch130.tsp\n",
            ">>> ch150.tsp\n",
            ">>> d1291.tsp\n",
            ">>> d15112.tsp\n",
            ">>> d1655.tsp\n",
            ">>> d18512.tsp\n",
            ">>> d198.tsp\n",
            ">>> d2103.tsp\n",
            ">>> d493.tsp\n",
            ">>> d657.tsp\n",
            ">>> dsj1000.tsp\n",
            ">>> eil101.tsp\n",
            ">>> eil51.tsp\n",
            ">>> eil76.tsp\n",
            ">>> fl1400.tsp\n",
            ">>> fl1577.tsp\n",
            ">>> fl3795.tsp\n",
            ">>> fl417.tsp\n",
            ">>> fnl4461.tsp\n",
            ">>> gil262.tsp\n",
            ">>> gr137.tsp\n",
            ">>> gr202.tsp\n",
            ">>> gr229.tsp\n",
            ">>> gr431.tsp\n",
            ">>> gr666.tsp\n",
            ">>> gr96.tsp\n",
            ">>> kroA100.tsp\n",
            ">>> kroA150.tsp\n",
            ">>> kroA200.tsp\n",
            ">>> kroB100.tsp\n",
            ">>> kroB150.tsp\n",
            ">>> kroB200.tsp\n",
            ">>> kroC100.tsp\n",
            ">>> kroD100.tsp\n",
            ">>> kroE100.tsp\n",
            ">>> lin105.tsp\n",
            ">>> lin318.tsp\n",
            ">>> linhp318.tsp\n",
            ">>> nrw1379.tsp\n",
            ">>> p654.tsp\n",
            ">>> pcb1173.tsp\n",
            ">>> pcb3038.tsp\n",
            ">>> pcb442.tsp\n",
            ">>> pla33810.tsp\n",
            ">>> pla7397.tsp\n",
            ">>> pla85900.tsp\n",
            ">>> pr1002.tsp\n",
            ">>> pr107.tsp\n",
            ">>> pr124.tsp\n",
            ">>> pr136.tsp\n",
            ">>> pr144.tsp\n",
            ">>> pr152.tsp\n",
            ">>> pr226.tsp\n",
            ">>> pr2392.tsp\n",
            ">>> pr264.tsp\n",
            ">>> pr299.tsp\n",
            ">>> pr439.tsp\n",
            ">>> pr76.tsp\n",
            ">>> rat195.tsp\n",
            ">>> rat575.tsp\n",
            ">>> rat783.tsp\n",
            ">>> rat99.tsp\n",
            ">>> rd100.tsp\n",
            ">>> rd400.tsp\n",
            ">>> rl11849.tsp\n",
            ">>> rl1304.tsp\n",
            ">>> rl1323.tsp\n",
            ">>> rl1889.tsp\n",
            ">>> rl5915.tsp\n",
            ">>> rl5934.tsp\n",
            ">>> st70.tsp\n",
            ">>> ts225.tsp\n",
            ">>> tsp225.tsp\n",
            ">>> u1060.tsp\n",
            ">>> u1432.tsp\n",
            ">>> u159.tsp\n",
            ">>> u1817.tsp\n",
            ">>> u2152.tsp\n",
            ">>> u2319.tsp\n",
            ">>> u574.tsp\n",
            ">>> u724.tsp\n",
            ">>> ulysses16.tsp\n",
            ">>> ulysses22.tsp\n",
            ">>> usa13509.tsp\n",
            ">>> vm1084.tsp\n",
            ">>> vm1748.tsp\n"
          ]
        }
      ]
    },
    {
      "cell_type": "code",
      "source": [
        "def get_distance(point_a, point_b):\n",
        "    distance = ((point_a.get_x() - point_b.get_x()) ** 2 + (point_a.get_y() - point_b.get_y() )** 2) ** 0.5\n",
        "    return distance"
      ],
      "metadata": {
        "id": "lkUKWz4WprS-"
      },
      "execution_count": null,
      "outputs": []
    },
    {
      "cell_type": "code",
      "source": [
        "att48_dataset = Dataset('/content/drive/MyDrive/tsp_data/cities_ATT48.csv', 'att48')"
      ],
      "metadata": {
        "colab": {
          "base_uri": "https://localhost:8080/"
        },
        "id": "acEknnnxKjA4",
        "outputId": "c5f6b391-0b8e-4c58-c90a-af9e7f6d8d88"
      },
      "execution_count": null,
      "outputs": [
        {
          "output_type": "stream",
          "name": "stdout",
          "text": [
            "getting data from att48\n",
            "Processed 49 lines.\n"
          ]
        }
      ]
    },
    {
      "cell_type": "code",
      "source": [
        "p01_dataset = Dataset('/content/drive/MyDrive/tsp_data/cities_P01.csv', 'p01')"
      ],
      "metadata": {
        "colab": {
          "base_uri": "https://localhost:8080/"
        },
        "id": "aYh110biKxW2",
        "outputId": "31d24e0e-097f-4a48-9bdf-8bda2e2c906a"
      },
      "execution_count": null,
      "outputs": [
        {
          "output_type": "stream",
          "name": "stdout",
          "text": [
            "getting data from p01\n",
            "Processed 16 lines.\n"
          ]
        }
      ]
    },
    {
      "cell_type": "markdown",
      "source": [
        "# Mutations"
      ],
      "metadata": {
        "id": "L0qKXlKcQQk2"
      }
    },
    {
      "cell_type": "code",
      "source": [
        "class Mutation:\n",
        "    def mutate(self, path: list):\n",
        "        raise NotImplementedError(\"Method mutate() was not implemented!\")"
      ],
      "metadata": {
        "id": "zq8VC8_rpch7"
      },
      "execution_count": null,
      "outputs": []
    },
    {
      "cell_type": "code",
      "source": [
        "class ReverseMutation(Mutation):\n",
        "    def __init__(self):\n",
        "        super().__init__()\n",
        "        self.name = \"Reverse Mutation\"\n",
        "\n",
        "    def get_name(self):\n",
        "      return self.name\n",
        "\n",
        "    def mutate(self, path: list):\n",
        "        # print(\"performing reverse mutation\")\n",
        "\n",
        "        mut_len = random.randint(1, len(path) // 2)\n",
        "\n",
        "        start_ind = random.randint(0, mut_len - 1)\n",
        "        end_ind = start_ind + mut_len - 1\n",
        "\n",
        "        path[start_ind:end_ind + 1] = path[start_ind:end_ind + 1][::-1]\n",
        "        return path"
      ],
      "metadata": {
        "id": "sx_MDepepdM9"
      },
      "execution_count": null,
      "outputs": []
    },
    {
      "cell_type": "code",
      "source": [
        "class ExchangeMutation(Mutation):\n",
        "    def __init__(self):\n",
        "        super().__init__()\n",
        "        self.name = \"Exchange Mutation\"\n",
        "\n",
        "    def get_name(self):\n",
        "      return self.name\n",
        "    \n",
        "    def mutate(self, path: list):\n",
        "        # print(\"performing exchange mutation\")\n",
        "\n",
        "        mut_len = random.randint(1, len(path) // 2)\n",
        "        # print(\"mut len: {}\".format(mut_len))\n",
        "\n",
        "        start_ind = random.randint(0, mut_len - 1)\n",
        "        end_ind = start_ind + mut_len - 1\n",
        "        # print(\"start ind {} and end ind {}\".format(start_ind, end_ind))\n",
        "        # print(individual)\n",
        "        path[start_ind:end_ind + 1] = path[start_ind:end_ind + 1][::-1]\n",
        "\n",
        "        subtour_ind = []\n",
        "        for i in range(start_ind, end_ind + 1):\n",
        "            subtour_ind.append(i)\n",
        "\n",
        "        idices = []\n",
        "        for i in range(start_ind):\n",
        "            idices.append(i)\n",
        "\n",
        "        for i in range(end_ind + 1, len(path) - 1):\n",
        "            idices.append(i)\n",
        "        # print(\"subtour ind: {}\".format(subtour_ind))\n",
        "        # print(\"outside ind: {}\".format(idices))\n",
        "        # choose a city in the substring and out the substring and swap them\n",
        "        swapping_ind_subtour = random.choice(subtour_ind)\n",
        "        swapping_ind_outside = random.choice(idices)\n",
        "        path[swapping_ind_outside], path[swapping_ind_subtour] = path[swapping_ind_subtour], path[swapping_ind_outside]\n",
        "        return path"
      ],
      "metadata": {
        "id": "m1hhyrrypfYN"
      },
      "execution_count": null,
      "outputs": []
    },
    {
      "cell_type": "code",
      "source": [
        "class DisplacementMutation(Mutation):\n",
        "    def __init__(self):\n",
        "        super().__init__()\n",
        "        self.name = \"Displacement Mutation\"\n",
        "\n",
        "    def get_name(self):\n",
        "      return self.name\n",
        "\n",
        "    def mutate(self, path: list):\n",
        "        # print(\"performing displacement mutation\")\n",
        "\n",
        "        mut_len = random.randint(1, len(path) // 2)\n",
        "        # print(\"mut len: {}\".format(mut_len))\n",
        "\n",
        "        start_ind = random.randint(0, mut_len - 1)\n",
        "        end_ind = start_ind + mut_len - 1\n",
        "        # print(\"start ind {} and end ind {}\".format(start_ind, end_ind))\n",
        "        # print(individual)\n",
        "        path[start_ind:end_ind + 1] = path[start_ind:end_ind + 1][::-1]\n",
        "\n",
        "        subtour_ind = []\n",
        "        for i in range(start_ind, end_ind + 1):\n",
        "            subtour_ind.append(i)\n",
        "\n",
        "        idices = []\n",
        "        for i in range(start_ind):\n",
        "            idices.append(i)\n",
        "\n",
        "        for i in range(end_ind + 1, len(path) - 1):\n",
        "            idices.append(i)\n",
        "\n",
        "\n",
        "        rand_ind = random.choice(idices)\n",
        "\n",
        "        if rand_ind < start_ind:\n",
        "            left_one = path[0:rand_ind]\n",
        "            left_two = path[rand_ind:start_ind]\n",
        "            subtour = path[start_ind:end_ind + 1]\n",
        "            right = path[end_ind + 1:]\n",
        "            path = left_one + subtour + left_two + right\n",
        "\n",
        "        if rand_ind > end_ind:\n",
        "            right_one = path[end_ind + 1:rand_ind]\n",
        "            right_two = path[rand_ind:]\n",
        "            subtour = path[start_ind:end_ind + 1]\n",
        "            left = path[0:start_ind]\n",
        "            path = left + right_one + subtour + right_two\n",
        "        \n",
        "        return path"
      ],
      "metadata": {
        "id": "z90qwMeWpjYN"
      },
      "execution_count": null,
      "outputs": []
    },
    {
      "cell_type": "code",
      "source": [
        "class EvenOddMutation(Mutation):\n",
        "    def __init__(self):\n",
        "        super().__init__()\n",
        "        self.name = \"Even-Odd Mutation\"\n",
        "    \n",
        "    def get_name(self):\n",
        "      return self.name\n",
        "\n",
        "    def mutate(self, path: list):\n",
        "\n",
        "        mut_len = random.randint(3, len(path) // 2)\n",
        "\n",
        "        start_ind = random.randint(0, mut_len - 1)\n",
        "        end_ind = start_ind + mut_len - 1\n",
        "\n",
        "        subtour = path[start_ind:end_ind + 1]\n",
        "        first = []\n",
        "        second = []\n",
        "        for i in range(0, len(subtour)):\n",
        "            if i % 2 == 0:\n",
        "                first.append(subtour[i])\n",
        "            else:\n",
        "                second.append(subtour[i])\n",
        "        first = [first[-1]] + first[:-1]\n",
        "        second = [second[-1]] + second[:-1]\n",
        "\n",
        "        new = list(filter(None.__ne__ .chain.from_iterable(zip_longest(first,second)))) \n",
        "        path[start_ind:end_ind + 1] = new\n",
        "\n",
        "        return path"
      ],
      "metadata": {
        "id": "Q9YGuYB-plVu"
      },
      "execution_count": null,
      "outputs": []
    },
    {
      "cell_type": "code",
      "source": [
        "class ShuffleMutation(Mutation):\n",
        "    def __init__(self):\n",
        "        super().__init__()\n",
        "        self.name = \"Even-Odd Mutation\"\n",
        "    \n",
        "    def get_name(self):\n",
        "      return self.name\n",
        "\n",
        "    def mutate(self, path: list):\n",
        "      mut_len = random.randint(2, len(path) // 2)\n",
        "\n",
        "      start_ind = random.randint(1, mut_len - 1)\n",
        "      end_ind = start_ind + mut_len - 1\n",
        "\n",
        "      list_left = path[0:start_ind]\n",
        "\n",
        "      list_mid = path[start_ind:end_ind]\n",
        "\n",
        "      list_right = path[end_ind:]\n",
        "\n",
        "      random.shuffle(list_mid)\n",
        "\n",
        "      return list_left + list_mid + list_right"
      ],
      "metadata": {
        "id": "Rw53qaOmOeJO"
      },
      "execution_count": null,
      "outputs": []
    },
    {
      "cell_type": "markdown",
      "source": [
        "# Algoritm"
      ],
      "metadata": {
        "id": "c8R8R2TpRAhT"
      }
    },
    {
      "cell_type": "code",
      "source": [
        "class Individual:\n",
        "    def __init__(self, data: list, mutations: Mutation):\n",
        "        self.data = data\n",
        "        self.length = len(self.data)\n",
        "        self.fitness = 0\n",
        "        self.mutation_operators = mutations\n",
        "\n",
        "        self.calculate_fitness()\n",
        "\n",
        "    def describe(self):\n",
        "        fig, ax = plt.subplots()\n",
        "\n",
        "        for elem in self.data:\n",
        "            print(elem.describe())\n",
        "\n",
        "            ax.scatter(elem.get_x(), elem.get_y(), linewidths=1.0)\n",
        "            ax.annotate(elem.get_name(), (elem.get_x() + 0.25, elem.get_y() + 0.25))\n",
        "\n",
        "        plt.show()\n",
        "\n",
        "    def get_fitness(self):\n",
        "        return self.fitness\n",
        "\n",
        "    def get_length(self):\n",
        "        return self.length\n",
        "    \n",
        "    def get_individual_solution(self):\n",
        "        return self.data\n",
        "\n",
        "    def calculate_fitness(self):\n",
        "        for i in range(0, self.length - 2):\n",
        "            self.fitness += get_distance(self.data[i], self.data[i + 1])\n",
        "        self.fitness += get_distance(self.data[-1], self.data[0])\n",
        "        self.fitness = round(self.fitness, 2)\n",
        "        \n",
        "    def mutate(self):\n",
        "        mutation_possibility = random.uniform(0, 1)\n",
        "\n",
        "        if mutation_possibility <= PROBABILITY:\n",
        "            self.mutation_operator = random.choice(self.mutation_operators)\n",
        "            self.data = self.mutation_operator.mutate(self.data)\n",
        "        self.calculate_fitness"
      ],
      "metadata": {
        "id": "bXrQTGa7pQvx"
      },
      "execution_count": null,
      "outputs": []
    },
    {
      "cell_type": "code",
      "source": [
        "class GeneticAlgorithm:\n",
        "    def __init__(self, pop_size: int, gen_num: int, dataset: Dataset, mutation: Mutation, path_to_result_file, rep):\n",
        "        self.population_size = pop_size\n",
        "        self.current_generation = [] # an array of size of population_size of Individuals\n",
        "        self.number_of_generations = gen_num\n",
        "        self.best_per_gen = []\n",
        "        self.worst_per_gen = []\n",
        "        self.dataset = dataset\n",
        "        self.current_parents = []\n",
        "        self.generation_fitness = 0\n",
        "        self.which_generation = 0\n",
        "        self.which_mutation = mutation\n",
        "        self.result_file = path_to_result_file\n",
        "        self.which_rep = rep\n",
        "\n",
        "    def run(self):\n",
        "      print(\"\\tRunning the GA with population size [{}] for {} generations.\".format(\n",
        "          self.population_size, \n",
        "          self.number_of_generations))\n",
        "      self.initialise_population()\n",
        "\n",
        "      for i in range(self.number_of_generations):\n",
        "          self.current_parents = []\n",
        "          self.which_generation += 1\n",
        "          self.current_parents = self.parent_selection()\n",
        "          self.current_generation = self.kill_worst_individuals()\n",
        "          self.generate_offspring()\n",
        "          self.calculate_current_generation_fitness()\n",
        "          self.save_current_generation_info()\n",
        "          print(\"best dist in gen {}: {}, gen fitness {}\".format(i, self.current_generation[0].get_fitness(), self.generation_fitness))\n",
        "      \n",
        "      # return a list of best individuals per generation\n",
        "      return self.best_per_gen\n",
        "\n",
        "    def kill_worst_individuals(self):\n",
        "        smaller_generation = self.current_generation[:len(self.current_generation)//2]\n",
        "        return smaller_generation\n",
        "    \n",
        "    def initialise_population(self): \n",
        "        # generates a population of the given size\n",
        "        starting_path = self.dataset.get_cities()\n",
        "\n",
        "        self.current_generation = [Individual(list(np.random.permutation(starting_path)), self.which_mutation) for _ in range(self.population_size)]\n",
        "        population_fitness = self.calculate_current_generation_fitness()\n",
        "\n",
        "        self.current_generation.sort(key= lambda x: x.fitness)\n",
        "        self.save_current_generation_info()\n",
        "\n",
        "    def save_current_generation_info(self):\n",
        "      # sorting the population based on the distance\n",
        "        self.current_generation.sort(key= lambda x: x.fitness)\n",
        "        self.best_per_gen.append((self.current_generation[0], self.current_generation[0].get_fitness()))\n",
        "\n",
        "        with open(self.result_file, 'a') as result_file:\n",
        "            row = [self.which_rep,\n",
        "                   self.dataset.get_name(),\n",
        "                   self.population_size,\n",
        "                   self.which_generation,\n",
        "                   self.number_of_generations,\n",
        "                   self.current_generation[0].get_fitness(),\n",
        "                   self.current_generation[-1].get_fitness(),\n",
        "                   np.mean([elem.fitness for elem in self.current_generation]),\n",
        "                   self.generation_fitness\n",
        "                   ]\n",
        "\n",
        "            writer = csv.writer(result_file)\n",
        "            writer.writerow(row)\n",
        "\n",
        "    def calculate_current_generation_fitness(self):\n",
        "        self.generation_fitness = 0\n",
        "        for individual_path in self.current_generation:\n",
        "            self.generation_fitness += individual_path.get_fitness()\n",
        "        return self.generation_fitness\n",
        "\n",
        "    def parent_selection(self):\n",
        "        # select two fittest individuals to be parents\n",
        "        # sorting the population based on the distance\n",
        "        self.current_generation.sort(key= lambda x: x.fitness)\n",
        "        # parents = self.current_generation[:2]\n",
        "        parents = random.sample(self.current_generation, 2)\n",
        "        return parents\n",
        "\n",
        "    def generate_offspring(self):  # DONE\n",
        "        number_of_offspring_to_create = self.population_size - len(self.current_generation)\n",
        "\n",
        "        # generating new offspring (number of children is equal to the size of the population)\n",
        "        for i in range(0, number_of_offspring_to_create - 1):\n",
        "            new_offspring = self.crossover(self.current_parents)\n",
        "            # mutating a child after generating it\n",
        "            new_offspring.mutate()\n",
        "            # appending newly created and mutated child to the population\n",
        "            self.current_generation.append(new_offspring)\n",
        "\n",
        "        # sorting the population based on the distance\n",
        "        self.current_generation.sort(key= lambda x: x.fitness)\n",
        "        # cutting off the weakest individuals so the population size is the same as in the beginning\n",
        "        self.current_generation = self.current_generation[:self.population_size]\n",
        "        # sorting the population based on the distance\n",
        "        self.current_generation.sort(key= lambda x: x.fitness)\n",
        "    \n",
        "    def crossover(self, parents):  # ordered crossover (based on week 2 exercises)\n",
        "        # 'parents' is a list of two 2-element tuples; parent1 and parent2 are just a simplification\n",
        "        parent1 = parents[0].get_individual_solution()  # lists of city names\n",
        "        parent2 = parents[1].get_individual_solution()\n",
        "\n",
        "        # creating two default children\n",
        "        child_1 = [None] * len(parent1)\n",
        "        child_2 = [None] * len(parent1)\n",
        "        start, end = sorted([random.randrange(len(parent1)) for _ in range(2)])\n",
        "\n",
        "        child_1[start:end] = parent1[start:end]\n",
        "        child_2[start:end] = parent2[start:end]\n",
        "\n",
        "        length = len(parent1)\n",
        "        p2_ind = end\n",
        "        c1_ind = end\n",
        "        while None in child_1:\n",
        "            if parent2[p2_ind % length] not in child_1:\n",
        "                child_1[c1_ind % length] = parent2[p2_ind % length]\n",
        "                c1_ind += 1\n",
        "            p2_ind += 1\n",
        "\n",
        "        p1_ind = end\n",
        "        c2_ind = end\n",
        "        while None in child_2:\n",
        "            if parent1[p1_ind % length] not in child_2:\n",
        "                child_2[c2_ind % length] = parent1[p1_ind % length]\n",
        "                c2_ind += 1\n",
        "            p1_ind += 1\n",
        "\n",
        "        individual_1, individual_2 = Individual(child_1, self.which_mutation), Individual(child_2, self.which_mutation)\n",
        "\n",
        "        # generates two children and chooses the better one\n",
        "        if individual_1.get_fitness() < individual_2.get_fitness():\n",
        "            result = individual_1\n",
        "        else:\n",
        "            result = individual_2\n",
        "\n",
        "        return result"
      ],
      "metadata": {
        "id": "0zsdzd4MqCjB",
        "colab": {
          "base_uri": "https://localhost:8080/",
          "height": 365
        },
        "outputId": "4d99d2fc-abc9-46af-c570-eb39ffbcb06e"
      },
      "execution_count": 4,
      "outputs": [
        {
          "output_type": "error",
          "ename": "NameError",
          "evalue": "ignored",
          "traceback": [
            "\u001b[0;31m---------------------------------------------------------------------------\u001b[0m",
            "\u001b[0;31mNameError\u001b[0m                                 Traceback (most recent call last)",
            "\u001b[0;32m<ipython-input-4-adba7fe750b8>\u001b[0m in \u001b[0;36m<cell line: 1>\u001b[0;34m()\u001b[0m\n\u001b[0;32m----> 1\u001b[0;31m \u001b[0;32mclass\u001b[0m \u001b[0mGeneticAlgorithm\u001b[0m\u001b[0;34m:\u001b[0m\u001b[0;34m\u001b[0m\u001b[0;34m\u001b[0m\u001b[0m\n\u001b[0m\u001b[1;32m      2\u001b[0m     \u001b[0;32mdef\u001b[0m \u001b[0m__init__\u001b[0m\u001b[0;34m(\u001b[0m\u001b[0mself\u001b[0m\u001b[0;34m,\u001b[0m \u001b[0mpop_size\u001b[0m\u001b[0;34m:\u001b[0m \u001b[0mint\u001b[0m\u001b[0;34m,\u001b[0m \u001b[0mgen_num\u001b[0m\u001b[0;34m:\u001b[0m \u001b[0mint\u001b[0m\u001b[0;34m,\u001b[0m \u001b[0mdataset\u001b[0m\u001b[0;34m:\u001b[0m \u001b[0mDataset\u001b[0m\u001b[0;34m,\u001b[0m \u001b[0mmutation\u001b[0m\u001b[0;34m:\u001b[0m \u001b[0mMutation\u001b[0m\u001b[0;34m,\u001b[0m \u001b[0mpath_to_result_file\u001b[0m\u001b[0;34m,\u001b[0m \u001b[0mrep\u001b[0m\u001b[0;34m)\u001b[0m\u001b[0;34m:\u001b[0m\u001b[0;34m\u001b[0m\u001b[0;34m\u001b[0m\u001b[0m\n\u001b[1;32m      3\u001b[0m         \u001b[0mself\u001b[0m\u001b[0;34m.\u001b[0m\u001b[0mpopulation_size\u001b[0m \u001b[0;34m=\u001b[0m \u001b[0mpop_size\u001b[0m\u001b[0;34m\u001b[0m\u001b[0;34m\u001b[0m\u001b[0m\n\u001b[1;32m      4\u001b[0m         \u001b[0mself\u001b[0m\u001b[0;34m.\u001b[0m\u001b[0mcurrent_generation\u001b[0m \u001b[0;34m=\u001b[0m \u001b[0;34m[\u001b[0m\u001b[0;34m]\u001b[0m \u001b[0;31m# an array of size of population_size of Individuals\u001b[0m\u001b[0;34m\u001b[0m\u001b[0;34m\u001b[0m\u001b[0m\n\u001b[1;32m      5\u001b[0m         \u001b[0mself\u001b[0m\u001b[0;34m.\u001b[0m\u001b[0mnumber_of_generations\u001b[0m \u001b[0;34m=\u001b[0m \u001b[0mgen_num\u001b[0m\u001b[0;34m\u001b[0m\u001b[0;34m\u001b[0m\u001b[0m\n",
            "\u001b[0;32m<ipython-input-4-adba7fe750b8>\u001b[0m in \u001b[0;36mGeneticAlgorithm\u001b[0;34m()\u001b[0m\n\u001b[1;32m      1\u001b[0m \u001b[0;32mclass\u001b[0m \u001b[0mGeneticAlgorithm\u001b[0m\u001b[0;34m:\u001b[0m\u001b[0;34m\u001b[0m\u001b[0;34m\u001b[0m\u001b[0m\n\u001b[0;32m----> 2\u001b[0;31m     \u001b[0;32mdef\u001b[0m \u001b[0m__init__\u001b[0m\u001b[0;34m(\u001b[0m\u001b[0mself\u001b[0m\u001b[0;34m,\u001b[0m \u001b[0mpop_size\u001b[0m\u001b[0;34m:\u001b[0m \u001b[0mint\u001b[0m\u001b[0;34m,\u001b[0m \u001b[0mgen_num\u001b[0m\u001b[0;34m:\u001b[0m \u001b[0mint\u001b[0m\u001b[0;34m,\u001b[0m \u001b[0mdataset\u001b[0m\u001b[0;34m:\u001b[0m \u001b[0mDataset\u001b[0m\u001b[0;34m,\u001b[0m \u001b[0mmutation\u001b[0m\u001b[0;34m:\u001b[0m \u001b[0mMutation\u001b[0m\u001b[0;34m,\u001b[0m \u001b[0mpath_to_result_file\u001b[0m\u001b[0;34m,\u001b[0m \u001b[0mrep\u001b[0m\u001b[0;34m)\u001b[0m\u001b[0;34m:\u001b[0m\u001b[0;34m\u001b[0m\u001b[0;34m\u001b[0m\u001b[0m\n\u001b[0m\u001b[1;32m      3\u001b[0m         \u001b[0mself\u001b[0m\u001b[0;34m.\u001b[0m\u001b[0mpopulation_size\u001b[0m \u001b[0;34m=\u001b[0m \u001b[0mpop_size\u001b[0m\u001b[0;34m\u001b[0m\u001b[0;34m\u001b[0m\u001b[0m\n\u001b[1;32m      4\u001b[0m         \u001b[0mself\u001b[0m\u001b[0;34m.\u001b[0m\u001b[0mcurrent_generation\u001b[0m \u001b[0;34m=\u001b[0m \u001b[0;34m[\u001b[0m\u001b[0;34m]\u001b[0m \u001b[0;31m# an array of size of population_size of Individuals\u001b[0m\u001b[0;34m\u001b[0m\u001b[0;34m\u001b[0m\u001b[0m\n\u001b[1;32m      5\u001b[0m         \u001b[0mself\u001b[0m\u001b[0;34m.\u001b[0m\u001b[0mnumber_of_generations\u001b[0m \u001b[0;34m=\u001b[0m \u001b[0mgen_num\u001b[0m\u001b[0;34m\u001b[0m\u001b[0;34m\u001b[0m\u001b[0m\n",
            "\u001b[0;31mNameError\u001b[0m: name 'Dataset' is not defined"
          ]
        }
      ]
    },
    {
      "cell_type": "markdown",
      "source": [
        "# Experiments"
      ],
      "metadata": {
        "id": "J2phAaT7RE58"
      }
    },
    {
      "cell_type": "code",
      "source": [
        "# get different population sizes\n",
        "population_sizes = [20, 50, 100]\n",
        "\n",
        "# get different generations lengths\n",
        "generations = [50, 150, 300]\n",
        "\n",
        "# algorithm repetitions\n",
        "repetitions = 10\n",
        "\n",
        "# mutation_operator = ReverseMutation()\n",
        "mutation_operators = [DisplacementMutation(), ReverseMutation(), ExchangeMutation(), ShuffleMutation()]\n",
        "\n",
        "# mutation_operator = ExchangeMutation()\n",
        "# mutation_operator = EvenOddMutation()\n",
        "\n",
        "\n",
        "PROBABILITY = 0.5"
      ],
      "metadata": {
        "id": "sXjbN4uSMdJ0"
      },
      "execution_count": null,
      "outputs": []
    },
    {
      "cell_type": "code",
      "source": [
        "att48_minimum_distance = 33523\n",
        "p01_minimum_distance = 291"
      ],
      "metadata": {
        "id": "QW43xlrurKZm"
      },
      "execution_count": null,
      "outputs": []
    },
    {
      "cell_type": "code",
      "source": [
        "header = ['repetition', 'dataset name', 'population size', 'generation', 'number of generations', 'best distance', 'worst distance', 'average distance', 'generation fitness']"
      ],
      "metadata": {
        "id": "X_5hAvH5uXst"
      },
      "execution_count": null,
      "outputs": []
    },
    {
      "cell_type": "code",
      "source": [
        "with open('/content/drive/MyDrive/tsp_data/results/p01_results.csv', 'w') as p01_writer:\n",
        "    writer = csv.writer(p01_writer)\n",
        "    writer.writerow(header)"
      ],
      "metadata": {
        "id": "7a5_5hNgwrQA"
      },
      "execution_count": null,
      "outputs": []
    },
    {
      "cell_type": "code",
      "source": [
        "with open('/content/drive/MyDrive/tsp_data/results/att48_results.csv', 'w') as att48_writer:\n",
        "    writer = csv.writer(att48_writer)\n",
        "    writer.writerow(header)"
      ],
      "metadata": {
        "id": "JB3b059yws-b"
      },
      "execution_count": null,
      "outputs": []
    },
    {
      "cell_type": "code",
      "source": [
        "filename = '/content/drive/MyDrive/tsp_data/results/p01_results.csv'\n",
        "\n",
        "best_p01_individuals = {}\n",
        "\n",
        "# run all scenarios for P01\n",
        "for i in range(1, repetitions + 1):\n",
        "    print(\"Repetition #{}\".format(i))\n",
        "    for j in range(len(population_sizes)):\n",
        "        for k in range(len(generations)):\n",
        "            genetic_algorithm_instance = GeneticAlgorithm(pop_size=population_sizes[j],\n",
        "                                                          gen_num=generations[k],\n",
        "                                                          dataset=p01_dataset,\n",
        "                                                          mutation=mutation_operators,\n",
        "                                                          path_to_result_file=filename,\n",
        "                                                          rep=i)\n",
        "            best_individuals_per_gen = genetic_algorithm_instance.run()\n",
        "            dictionary_name = \"rep {}, pop_size {}, generations {}, dataset p01\".format(i, population_sizes[j], generations[k])\n",
        "            best_p01_individuals[dictionary_name] = best_individuals_per_gen"
      ],
      "metadata": {
        "id": "OguMzoftjXJ9"
      },
      "execution_count": null,
      "outputs": []
    },
    {
      "cell_type": "code",
      "source": [
        "filename = '/content/drive/MyDrive/tsp_data/results/att48_results.csv'\n",
        "\n",
        "best_att48_individuals = {}\n",
        "\n",
        "# run all scenarios for ATT48\n",
        "for i in range(1, repetitions + 1):\n",
        "    print(\"Repetition #{}\".format(i))\n",
        "    for j in range(len(population_sizes)):\n",
        "        for k in range(len(generations)):\n",
        "            genetic_algorithm_instance = GeneticAlgorithm(pop_size=population_sizes[j],\n",
        "                                                          gen_num=generations[j],\n",
        "                                                          dataset=att48_dataset,\n",
        "                                                          mutation=mutation_operators,\n",
        "                                                          path_to_result_file=filename,\n",
        "                                                          rep=i)\n",
        "            best_individuals_per_gen = genetic_algorithm_instance.run()\n",
        "            dictionary_name = \"rep {}, pop_size {}, generations {}, dataset att48\".format(i, population_sizes[j], generations[k])\n",
        "            best_att48_individuals[dictionary_name] = best_individuals_per_gen"
      ],
      "metadata": {
        "id": "otpH4JNGjY1h"
      },
      "execution_count": null,
      "outputs": []
    },
    {
      "cell_type": "markdown",
      "source": [
        "# Data Visualisation"
      ],
      "metadata": {
        "id": "l-f7cbnPRI_-"
      }
    },
    {
      "cell_type": "code",
      "source": [
        "import pandas as pd"
      ],
      "metadata": {
        "id": "1Dq4Xxkc55Jy"
      },
      "execution_count": null,
      "outputs": []
    },
    {
      "cell_type": "code",
      "source": [
        "p01_csv = '/content/drive/MyDrive/tsp_data/results/p01_results.csv'"
      ],
      "metadata": {
        "id": "TdJQSvO68OF3"
      },
      "execution_count": null,
      "outputs": []
    },
    {
      "cell_type": "code",
      "source": [
        "att48_csv = '/content/drive/MyDrive/tsp_data/results/att48_results.csv'"
      ],
      "metadata": {
        "id": "DahUJ6ye6w5t"
      },
      "execution_count": null,
      "outputs": []
    },
    {
      "cell_type": "code",
      "source": [
        "p01_result = pd.read_csv(p01_csv)"
      ],
      "metadata": {
        "id": "N6hIQSKF8QIz"
      },
      "execution_count": null,
      "outputs": []
    },
    {
      "cell_type": "code",
      "source": [
        "att48_result = pd.read_csv(att48_csv)"
      ],
      "metadata": {
        "id": "f-xwhXPw57ee"
      },
      "execution_count": null,
      "outputs": []
    },
    {
      "cell_type": "code",
      "source": [
        "p01_result.head()"
      ],
      "metadata": {
        "colab": {
          "base_uri": "https://localhost:8080/",
          "height": 206
        },
        "id": "oxS8dfCg7OUh",
        "outputId": "f8411c92-baa9-416a-f230-12e126d45f90"
      },
      "execution_count": null,
      "outputs": [
        {
          "output_type": "execute_result",
          "data": {
            "text/plain": [
              "   repetition dataset name  population size  generation  \\\n",
              "0           1          p01               20           0   \n",
              "1           1          p01               20           1   \n",
              "2           1          p01               20           2   \n",
              "3           1          p01               20           3   \n",
              "4           1          p01               20           4   \n",
              "\n",
              "   number of generations  best distance  worst distance  average distance  \\\n",
              "0                     20         502.68          692.77        586.121500   \n",
              "1                     20         457.57          581.49        534.683684   \n",
              "2                     20         455.20          536.06        488.391579   \n",
              "3                     20         454.53          535.50        485.579474   \n",
              "4                     20         454.53          535.50        478.418421   \n",
              "\n",
              "   generation fitness  \n",
              "0            11722.43  \n",
              "1            10158.99  \n",
              "2             9279.44  \n",
              "3             9226.01  \n",
              "4             9089.95  "
            ],
            "text/html": [
              "\n",
              "  <div id=\"df-90843d34-c1e9-43a2-9c53-3457946c66c2\">\n",
              "    <div class=\"colab-df-container\">\n",
              "      <div>\n",
              "<style scoped>\n",
              "    .dataframe tbody tr th:only-of-type {\n",
              "        vertical-align: middle;\n",
              "    }\n",
              "\n",
              "    .dataframe tbody tr th {\n",
              "        vertical-align: top;\n",
              "    }\n",
              "\n",
              "    .dataframe thead th {\n",
              "        text-align: right;\n",
              "    }\n",
              "</style>\n",
              "<table border=\"1\" class=\"dataframe\">\n",
              "  <thead>\n",
              "    <tr style=\"text-align: right;\">\n",
              "      <th></th>\n",
              "      <th>repetition</th>\n",
              "      <th>dataset name</th>\n",
              "      <th>population size</th>\n",
              "      <th>generation</th>\n",
              "      <th>number of generations</th>\n",
              "      <th>best distance</th>\n",
              "      <th>worst distance</th>\n",
              "      <th>average distance</th>\n",
              "      <th>generation fitness</th>\n",
              "    </tr>\n",
              "  </thead>\n",
              "  <tbody>\n",
              "    <tr>\n",
              "      <th>0</th>\n",
              "      <td>1</td>\n",
              "      <td>p01</td>\n",
              "      <td>20</td>\n",
              "      <td>0</td>\n",
              "      <td>20</td>\n",
              "      <td>502.68</td>\n",
              "      <td>692.77</td>\n",
              "      <td>586.121500</td>\n",
              "      <td>11722.43</td>\n",
              "    </tr>\n",
              "    <tr>\n",
              "      <th>1</th>\n",
              "      <td>1</td>\n",
              "      <td>p01</td>\n",
              "      <td>20</td>\n",
              "      <td>1</td>\n",
              "      <td>20</td>\n",
              "      <td>457.57</td>\n",
              "      <td>581.49</td>\n",
              "      <td>534.683684</td>\n",
              "      <td>10158.99</td>\n",
              "    </tr>\n",
              "    <tr>\n",
              "      <th>2</th>\n",
              "      <td>1</td>\n",
              "      <td>p01</td>\n",
              "      <td>20</td>\n",
              "      <td>2</td>\n",
              "      <td>20</td>\n",
              "      <td>455.20</td>\n",
              "      <td>536.06</td>\n",
              "      <td>488.391579</td>\n",
              "      <td>9279.44</td>\n",
              "    </tr>\n",
              "    <tr>\n",
              "      <th>3</th>\n",
              "      <td>1</td>\n",
              "      <td>p01</td>\n",
              "      <td>20</td>\n",
              "      <td>3</td>\n",
              "      <td>20</td>\n",
              "      <td>454.53</td>\n",
              "      <td>535.50</td>\n",
              "      <td>485.579474</td>\n",
              "      <td>9226.01</td>\n",
              "    </tr>\n",
              "    <tr>\n",
              "      <th>4</th>\n",
              "      <td>1</td>\n",
              "      <td>p01</td>\n",
              "      <td>20</td>\n",
              "      <td>4</td>\n",
              "      <td>20</td>\n",
              "      <td>454.53</td>\n",
              "      <td>535.50</td>\n",
              "      <td>478.418421</td>\n",
              "      <td>9089.95</td>\n",
              "    </tr>\n",
              "  </tbody>\n",
              "</table>\n",
              "</div>\n",
              "      <button class=\"colab-df-convert\" onclick=\"convertToInteractive('df-90843d34-c1e9-43a2-9c53-3457946c66c2')\"\n",
              "              title=\"Convert this dataframe to an interactive table.\"\n",
              "              style=\"display:none;\">\n",
              "        \n",
              "  <svg xmlns=\"http://www.w3.org/2000/svg\" height=\"24px\"viewBox=\"0 0 24 24\"\n",
              "       width=\"24px\">\n",
              "    <path d=\"M0 0h24v24H0V0z\" fill=\"none\"/>\n",
              "    <path d=\"M18.56 5.44l.94 2.06.94-2.06 2.06-.94-2.06-.94-.94-2.06-.94 2.06-2.06.94zm-11 1L8.5 8.5l.94-2.06 2.06-.94-2.06-.94L8.5 2.5l-.94 2.06-2.06.94zm10 10l.94 2.06.94-2.06 2.06-.94-2.06-.94-.94-2.06-.94 2.06-2.06.94z\"/><path d=\"M17.41 7.96l-1.37-1.37c-.4-.4-.92-.59-1.43-.59-.52 0-1.04.2-1.43.59L10.3 9.45l-7.72 7.72c-.78.78-.78 2.05 0 2.83L4 21.41c.39.39.9.59 1.41.59.51 0 1.02-.2 1.41-.59l7.78-7.78 2.81-2.81c.8-.78.8-2.07 0-2.86zM5.41 20L4 18.59l7.72-7.72 1.47 1.35L5.41 20z\"/>\n",
              "  </svg>\n",
              "      </button>\n",
              "      \n",
              "  <style>\n",
              "    .colab-df-container {\n",
              "      display:flex;\n",
              "      flex-wrap:wrap;\n",
              "      gap: 12px;\n",
              "    }\n",
              "\n",
              "    .colab-df-convert {\n",
              "      background-color: #E8F0FE;\n",
              "      border: none;\n",
              "      border-radius: 50%;\n",
              "      cursor: pointer;\n",
              "      display: none;\n",
              "      fill: #1967D2;\n",
              "      height: 32px;\n",
              "      padding: 0 0 0 0;\n",
              "      width: 32px;\n",
              "    }\n",
              "\n",
              "    .colab-df-convert:hover {\n",
              "      background-color: #E2EBFA;\n",
              "      box-shadow: 0px 1px 2px rgba(60, 64, 67, 0.3), 0px 1px 3px 1px rgba(60, 64, 67, 0.15);\n",
              "      fill: #174EA6;\n",
              "    }\n",
              "\n",
              "    [theme=dark] .colab-df-convert {\n",
              "      background-color: #3B4455;\n",
              "      fill: #D2E3FC;\n",
              "    }\n",
              "\n",
              "    [theme=dark] .colab-df-convert:hover {\n",
              "      background-color: #434B5C;\n",
              "      box-shadow: 0px 1px 3px 1px rgba(0, 0, 0, 0.15);\n",
              "      filter: drop-shadow(0px 1px 2px rgba(0, 0, 0, 0.3));\n",
              "      fill: #FFFFFF;\n",
              "    }\n",
              "  </style>\n",
              "\n",
              "      <script>\n",
              "        const buttonEl =\n",
              "          document.querySelector('#df-90843d34-c1e9-43a2-9c53-3457946c66c2 button.colab-df-convert');\n",
              "        buttonEl.style.display =\n",
              "          google.colab.kernel.accessAllowed ? 'block' : 'none';\n",
              "\n",
              "        async function convertToInteractive(key) {\n",
              "          const element = document.querySelector('#df-90843d34-c1e9-43a2-9c53-3457946c66c2');\n",
              "          const dataTable =\n",
              "            await google.colab.kernel.invokeFunction('convertToInteractive',\n",
              "                                                     [key], {});\n",
              "          if (!dataTable) return;\n",
              "\n",
              "          const docLinkHtml = 'Like what you see? Visit the ' +\n",
              "            '<a target=\"_blank\" href=https://colab.research.google.com/notebooks/data_table.ipynb>data table notebook</a>'\n",
              "            + ' to learn more about interactive tables.';\n",
              "          element.innerHTML = '';\n",
              "          dataTable['output_type'] = 'display_data';\n",
              "          await google.colab.output.renderOutput(dataTable, element);\n",
              "          const docLink = document.createElement('div');\n",
              "          docLink.innerHTML = docLinkHtml;\n",
              "          element.appendChild(docLink);\n",
              "        }\n",
              "      </script>\n",
              "    </div>\n",
              "  </div>\n",
              "  "
            ]
          },
          "metadata": {},
          "execution_count": 351
        }
      ]
    },
    {
      "cell_type": "code",
      "source": [
        "att48_result.head()"
      ],
      "metadata": {
        "colab": {
          "base_uri": "https://localhost:8080/",
          "height": 206
        },
        "id": "uLg_ghQM7Qrk",
        "outputId": "ea426e1d-1400-48cb-d9d0-6cc33375a6bd"
      },
      "execution_count": null,
      "outputs": [
        {
          "output_type": "execute_result",
          "data": {
            "text/plain": [
              "   repetition dataset name  population size  generation  \\\n",
              "0           1        att48               20           0   \n",
              "1           1        att48               20           1   \n",
              "2           1        att48               20           2   \n",
              "3           1        att48               20           3   \n",
              "4           1        att48               20           4   \n",
              "\n",
              "   number of generations  best distance  worst distance  average distance  \\\n",
              "0                     20      122337.03       177082.16     153198.481000   \n",
              "1                     20      116721.29       152534.05     137044.649474   \n",
              "2                     20      116721.29       136537.02     123130.045263   \n",
              "3                     20      116721.29       120229.45     117268.911579   \n",
              "4                     20      116721.29       116721.29     116721.290000   \n",
              "\n",
              "   generation fitness  \n",
              "0          3063969.62  \n",
              "1          2603848.34  \n",
              "2          2339470.86  \n",
              "3          2228109.32  \n",
              "4          2217704.51  "
            ],
            "text/html": [
              "\n",
              "  <div id=\"df-830d51b7-9619-4619-b5a9-0fe71f1dd29e\">\n",
              "    <div class=\"colab-df-container\">\n",
              "      <div>\n",
              "<style scoped>\n",
              "    .dataframe tbody tr th:only-of-type {\n",
              "        vertical-align: middle;\n",
              "    }\n",
              "\n",
              "    .dataframe tbody tr th {\n",
              "        vertical-align: top;\n",
              "    }\n",
              "\n",
              "    .dataframe thead th {\n",
              "        text-align: right;\n",
              "    }\n",
              "</style>\n",
              "<table border=\"1\" class=\"dataframe\">\n",
              "  <thead>\n",
              "    <tr style=\"text-align: right;\">\n",
              "      <th></th>\n",
              "      <th>repetition</th>\n",
              "      <th>dataset name</th>\n",
              "      <th>population size</th>\n",
              "      <th>generation</th>\n",
              "      <th>number of generations</th>\n",
              "      <th>best distance</th>\n",
              "      <th>worst distance</th>\n",
              "      <th>average distance</th>\n",
              "      <th>generation fitness</th>\n",
              "    </tr>\n",
              "  </thead>\n",
              "  <tbody>\n",
              "    <tr>\n",
              "      <th>0</th>\n",
              "      <td>1</td>\n",
              "      <td>att48</td>\n",
              "      <td>20</td>\n",
              "      <td>0</td>\n",
              "      <td>20</td>\n",
              "      <td>122337.03</td>\n",
              "      <td>177082.16</td>\n",
              "      <td>153198.481000</td>\n",
              "      <td>3063969.62</td>\n",
              "    </tr>\n",
              "    <tr>\n",
              "      <th>1</th>\n",
              "      <td>1</td>\n",
              "      <td>att48</td>\n",
              "      <td>20</td>\n",
              "      <td>1</td>\n",
              "      <td>20</td>\n",
              "      <td>116721.29</td>\n",
              "      <td>152534.05</td>\n",
              "      <td>137044.649474</td>\n",
              "      <td>2603848.34</td>\n",
              "    </tr>\n",
              "    <tr>\n",
              "      <th>2</th>\n",
              "      <td>1</td>\n",
              "      <td>att48</td>\n",
              "      <td>20</td>\n",
              "      <td>2</td>\n",
              "      <td>20</td>\n",
              "      <td>116721.29</td>\n",
              "      <td>136537.02</td>\n",
              "      <td>123130.045263</td>\n",
              "      <td>2339470.86</td>\n",
              "    </tr>\n",
              "    <tr>\n",
              "      <th>3</th>\n",
              "      <td>1</td>\n",
              "      <td>att48</td>\n",
              "      <td>20</td>\n",
              "      <td>3</td>\n",
              "      <td>20</td>\n",
              "      <td>116721.29</td>\n",
              "      <td>120229.45</td>\n",
              "      <td>117268.911579</td>\n",
              "      <td>2228109.32</td>\n",
              "    </tr>\n",
              "    <tr>\n",
              "      <th>4</th>\n",
              "      <td>1</td>\n",
              "      <td>att48</td>\n",
              "      <td>20</td>\n",
              "      <td>4</td>\n",
              "      <td>20</td>\n",
              "      <td>116721.29</td>\n",
              "      <td>116721.29</td>\n",
              "      <td>116721.290000</td>\n",
              "      <td>2217704.51</td>\n",
              "    </tr>\n",
              "  </tbody>\n",
              "</table>\n",
              "</div>\n",
              "      <button class=\"colab-df-convert\" onclick=\"convertToInteractive('df-830d51b7-9619-4619-b5a9-0fe71f1dd29e')\"\n",
              "              title=\"Convert this dataframe to an interactive table.\"\n",
              "              style=\"display:none;\">\n",
              "        \n",
              "  <svg xmlns=\"http://www.w3.org/2000/svg\" height=\"24px\"viewBox=\"0 0 24 24\"\n",
              "       width=\"24px\">\n",
              "    <path d=\"M0 0h24v24H0V0z\" fill=\"none\"/>\n",
              "    <path d=\"M18.56 5.44l.94 2.06.94-2.06 2.06-.94-2.06-.94-.94-2.06-.94 2.06-2.06.94zm-11 1L8.5 8.5l.94-2.06 2.06-.94-2.06-.94L8.5 2.5l-.94 2.06-2.06.94zm10 10l.94 2.06.94-2.06 2.06-.94-2.06-.94-.94-2.06-.94 2.06-2.06.94z\"/><path d=\"M17.41 7.96l-1.37-1.37c-.4-.4-.92-.59-1.43-.59-.52 0-1.04.2-1.43.59L10.3 9.45l-7.72 7.72c-.78.78-.78 2.05 0 2.83L4 21.41c.39.39.9.59 1.41.59.51 0 1.02-.2 1.41-.59l7.78-7.78 2.81-2.81c.8-.78.8-2.07 0-2.86zM5.41 20L4 18.59l7.72-7.72 1.47 1.35L5.41 20z\"/>\n",
              "  </svg>\n",
              "      </button>\n",
              "      \n",
              "  <style>\n",
              "    .colab-df-container {\n",
              "      display:flex;\n",
              "      flex-wrap:wrap;\n",
              "      gap: 12px;\n",
              "    }\n",
              "\n",
              "    .colab-df-convert {\n",
              "      background-color: #E8F0FE;\n",
              "      border: none;\n",
              "      border-radius: 50%;\n",
              "      cursor: pointer;\n",
              "      display: none;\n",
              "      fill: #1967D2;\n",
              "      height: 32px;\n",
              "      padding: 0 0 0 0;\n",
              "      width: 32px;\n",
              "    }\n",
              "\n",
              "    .colab-df-convert:hover {\n",
              "      background-color: #E2EBFA;\n",
              "      box-shadow: 0px 1px 2px rgba(60, 64, 67, 0.3), 0px 1px 3px 1px rgba(60, 64, 67, 0.15);\n",
              "      fill: #174EA6;\n",
              "    }\n",
              "\n",
              "    [theme=dark] .colab-df-convert {\n",
              "      background-color: #3B4455;\n",
              "      fill: #D2E3FC;\n",
              "    }\n",
              "\n",
              "    [theme=dark] .colab-df-convert:hover {\n",
              "      background-color: #434B5C;\n",
              "      box-shadow: 0px 1px 3px 1px rgba(0, 0, 0, 0.15);\n",
              "      filter: drop-shadow(0px 1px 2px rgba(0, 0, 0, 0.3));\n",
              "      fill: #FFFFFF;\n",
              "    }\n",
              "  </style>\n",
              "\n",
              "      <script>\n",
              "        const buttonEl =\n",
              "          document.querySelector('#df-830d51b7-9619-4619-b5a9-0fe71f1dd29e button.colab-df-convert');\n",
              "        buttonEl.style.display =\n",
              "          google.colab.kernel.accessAllowed ? 'block' : 'none';\n",
              "\n",
              "        async function convertToInteractive(key) {\n",
              "          const element = document.querySelector('#df-830d51b7-9619-4619-b5a9-0fe71f1dd29e');\n",
              "          const dataTable =\n",
              "            await google.colab.kernel.invokeFunction('convertToInteractive',\n",
              "                                                     [key], {});\n",
              "          if (!dataTable) return;\n",
              "\n",
              "          const docLinkHtml = 'Like what you see? Visit the ' +\n",
              "            '<a target=\"_blank\" href=https://colab.research.google.com/notebooks/data_table.ipynb>data table notebook</a>'\n",
              "            + ' to learn more about interactive tables.';\n",
              "          element.innerHTML = '';\n",
              "          dataTable['output_type'] = 'display_data';\n",
              "          await google.colab.output.renderOutput(dataTable, element);\n",
              "          const docLink = document.createElement('div');\n",
              "          docLink.innerHTML = docLinkHtml;\n",
              "          element.appendChild(docLink);\n",
              "        }\n",
              "      </script>\n",
              "    </div>\n",
              "  </div>\n",
              "  "
            ]
          },
          "metadata": {},
          "execution_count": 352
        }
      ]
    },
    {
      "cell_type": "code",
      "source": [
        "p01_best_coords = [[-0.0000000400893815,0.0000000358808126],\n",
        "[-21.4983260706612533,-7.3194159498090388],\n",
        "[-43.0700258454450875,-14.5548396888330487],\n",
        "[-50.4808382862985496,-7.3744722432402208],\n",
        "[-64.7472605264735108,-21.8981713360336698],\n",
        "[-72.0785319657452987,-0.1815834632498404],\n",
        "[-79.2915791686897506,21.4033307581457670],\n",
        "[-65.0865638413727368,36.0624693073746769],\n",
        "[-57.5687244704708050,43.2505562436354225],\n",
        "[-50.5859026832315024,21.5881966132975371],\n",
        "[-36.0366489745023770,21.6135482886620949],\n",
        "[-29.0584693142401171,43.2167287683090606],\n",
        "[-14.6577381710829471,43.3895496964974043],\n",
        "[-0.1358203773809326,28.7292896751977480],\n",
        "[-0.0000000400893815,0.0000000358808126]]"
      ],
      "metadata": {
        "id": "tdG9jF8Uiiiy"
      },
      "execution_count": null,
      "outputs": []
    },
    {
      "cell_type": "code",
      "source": [
        "p01_point = [Point('point', elem[0], elem[1]) for elem in p01_best_coords]"
      ],
      "metadata": {
        "id": "bxzsLgqgo-US"
      },
      "execution_count": null,
      "outputs": []
    },
    {
      "cell_type": "code",
      "source": [
        "ind_p01 = Individual(p01_point, mutation_operators)"
      ],
      "metadata": {
        "id": "6gH1whNypMWA"
      },
      "execution_count": null,
      "outputs": []
    },
    {
      "cell_type": "code",
      "source": [
        "print(ind_p01.get_fitness())"
      ],
      "metadata": {
        "colab": {
          "base_uri": "https://localhost:8080/"
        },
        "id": "1kEmYx_cpmLI",
        "outputId": "7358108c-bcf2-47ac-8962-d311b6435649"
      },
      "execution_count": null,
      "outputs": [
        {
          "output_type": "stream",
          "name": "stdout",
          "text": [
            "247.69\n"
          ]
        }
      ]
    },
    {
      "cell_type": "code",
      "source": [
        "print(best_p01_individuals['rep 1, pop_size 20, generations 50, dataset p01'])"
      ],
      "metadata": {
        "colab": {
          "base_uri": "https://localhost:8080/"
        },
        "id": "-FOkKImNrXOm",
        "outputId": "18575698-4c4a-4d96-a7b2-1ee7bd934076"
      },
      "execution_count": null,
      "outputs": [
        {
          "output_type": "stream",
          "name": "stdout",
          "text": [
            "[(<__main__.Individual object at 0x7fb089f130d0>, 532.0), (<__main__.Individual object at 0x7fb089f130d0>, 532.0), (<__main__.Individual object at 0x7fb089f13bb0>, 504.33), (<__main__.Individual object at 0x7fb089f13670>, 429.71), (<__main__.Individual object at 0x7fb089f13670>, 429.71), (<__main__.Individual object at 0x7fb089f13670>, 429.71), (<__main__.Individual object at 0x7fb089f13670>, 429.71), (<__main__.Individual object at 0x7fb089f13700>, 382.62), (<__main__.Individual object at 0x7fb089f13700>, 382.62), (<__main__.Individual object at 0x7fb089f13700>, 382.62), (<__main__.Individual object at 0x7fb089f13700>, 382.62), (<__main__.Individual object at 0x7fb089f13700>, 382.62), (<__main__.Individual object at 0x7fb089f13700>, 382.62), (<__main__.Individual object at 0x7fb089f13700>, 382.62), (<__main__.Individual object at 0x7fb089f13820>, 371.71), (<__main__.Individual object at 0x7fb089ef0fa0>, 357.24), (<__main__.Individual object at 0x7fb089ef0fa0>, 357.24), (<__main__.Individual object at 0x7fb089ef0fa0>, 357.24), (<__main__.Individual object at 0x7fb089ef0fa0>, 357.24), (<__main__.Individual object at 0x7fb089ef0fa0>, 357.24), (<__main__.Individual object at 0x7fb089ef0fa0>, 357.24), (<__main__.Individual object at 0x7fb089ef0fa0>, 357.24), (<__main__.Individual object at 0x7fb089ef0fa0>, 357.24), (<__main__.Individual object at 0x7fb089ef0fa0>, 357.24), (<__main__.Individual object at 0x7fb089ef0fa0>, 357.24), (<__main__.Individual object at 0x7fb089ef0fa0>, 357.24), (<__main__.Individual object at 0x7fb089ef0fa0>, 357.24), (<__main__.Individual object at 0x7fb089ef0fa0>, 357.24), (<__main__.Individual object at 0x7fb089ef0fa0>, 357.24), (<__main__.Individual object at 0x7fb089ef0fa0>, 357.24), (<__main__.Individual object at 0x7fb089ef0fa0>, 357.24), (<__main__.Individual object at 0x7fb089ef0fa0>, 357.24), (<__main__.Individual object at 0x7fb089ef0fa0>, 357.24), (<__main__.Individual object at 0x7fb089f0a850>, 355.6), (<__main__.Individual object at 0x7fb089f0a850>, 355.6), (<__main__.Individual object at 0x7fb089f0a850>, 355.6), (<__main__.Individual object at 0x7fb089f0a850>, 355.6), (<__main__.Individual object at 0x7fb089f0a850>, 355.6), (<__main__.Individual object at 0x7fb089f0a850>, 355.6), (<__main__.Individual object at 0x7fb089f0a850>, 355.6), (<__main__.Individual object at 0x7fb089f0a850>, 355.6), (<__main__.Individual object at 0x7fb089f0a850>, 355.6), (<__main__.Individual object at 0x7fb089f0a850>, 355.6), (<__main__.Individual object at 0x7fb089f0a850>, 355.6), (<__main__.Individual object at 0x7fb089f0a850>, 355.6), (<__main__.Individual object at 0x7fb089f0a850>, 355.6), (<__main__.Individual object at 0x7fb089f0a850>, 355.6), (<__main__.Individual object at 0x7fb089f0a850>, 355.6), (<__main__.Individual object at 0x7fb089f0a850>, 355.6), (<__main__.Individual object at 0x7fb089f0a850>, 355.6), (<__main__.Individual object at 0x7fb089f0a850>, 355.6)]\n"
          ]
        }
      ]
    },
    {
      "cell_type": "code",
      "source": [
        "from matplotlib.animation import FuncAnimation"
      ],
      "metadata": {
        "id": "FNYLMraEsMS6"
      },
      "execution_count": null,
      "outputs": []
    },
    {
      "cell_type": "code",
      "source": [
        "mytuple = (1, 'str')"
      ],
      "metadata": {
        "id": "2Zztyv_btSzL"
      },
      "execution_count": null,
      "outputs": []
    },
    {
      "cell_type": "code",
      "source": [
        "current_obj, current_float = mytuple"
      ],
      "metadata": {
        "id": "eEtD2Bg3tWRP"
      },
      "execution_count": null,
      "outputs": []
    },
    {
      "cell_type": "code",
      "source": [
        "current_float"
      ],
      "metadata": {
        "colab": {
          "base_uri": "https://localhost:8080/",
          "height": 35
        },
        "id": "KEDbhd94taNU",
        "outputId": "30ff00af-c49e-4176-b85a-2ae673ebcc10"
      },
      "execution_count": null,
      "outputs": [
        {
          "output_type": "execute_result",
          "data": {
            "text/plain": [
              "'str'"
            ],
            "application/vnd.google.colaboratory.intrinsic+json": {
              "type": "string"
            }
          },
          "metadata": {},
          "execution_count": 431
        }
      ]
    },
    {
      "cell_type": "code",
      "source": [
        "    # def describe(self):\n",
        "    #     fig, ax = plt.subplots()\n",
        "\n",
        "    #     for elem in self.data:\n",
        "    #         print(elem.describe())\n",
        "\n",
        "    #         ax.scatter(elem.get_x(), elem.get_y(), linewidths=1.0)\n",
        "    #         ax.annotate(elem.get_name(), (elem.get_x() + 0.25, elem.get_y() + 0.25))\n",
        "\n",
        "    #     plt.show()"
      ],
      "metadata": {
        "id": "YsyImJbhu7VM"
      },
      "execution_count": null,
      "outputs": []
    },
    {
      "cell_type": "code",
      "source": [
        "fig, ax = plt.subplots()"
      ],
      "metadata": {
        "colab": {
          "base_uri": "https://localhost:8080/",
          "height": 435
        },
        "id": "ZcuJoX7ytIqY",
        "outputId": "bd074967-347b-4219-afcb-41da99350ed7"
      },
      "execution_count": null,
      "outputs": [
        {
          "output_type": "display_data",
          "data": {
            "text/plain": [
              "<Figure size 640x480 with 1 Axes>"
            ],
            "image/png": "[encoded data removed]"
          },
          "metadata": {}
        }
      ]
    },
    {
      "cell_type": "code",
      "source": [
        "def update(frame):\n",
        "    # Clear the previous plot\n",
        "    ax.clear()\n",
        "    # Get the current object and float from the dictionary\n",
        "    current_obj, current_float = best_p01_individuals[frame]\n",
        "    # Plot the current object\n",
        "    ax.plot(current_obj.x_values, current_obj.y_values)\n",
        "    # Set the title of the plot\n",
        "    ax.set_title(f'Object {frame} at float value {current_float}')"
      ],
      "metadata": {
        "id": "VAL-C3GutAFX"
      },
      "execution_count": null,
      "outputs": []
    },
    {
      "cell_type": "code",
      "source": [
        "animation = FuncAnimation(fig, update, frames=my_dict.keys(), repeat=True)"
      ],
      "metadata": {
        "id": "Nr0walEUtOqP"
      },
      "execution_count": null,
      "outputs": []
    },
    {
      "cell_type": "code",
      "source": [
        "one_ind = best_p01_individuals['rep 1, pop_size 20, generations 50, dataset p01'][-1]"
      ],
      "metadata": {
        "id": "fRkz0U4BvMac"
      },
      "execution_count": null,
      "outputs": []
    },
    {
      "cell_type": "code",
      "source": [
        "print(one_ind)"
      ],
      "metadata": {
        "colab": {
          "base_uri": "https://localhost:8080/"
        },
        "id": "IGLcR7BdvUbu",
        "outputId": "ecaa68f6-29b3-442b-befe-6556326bce6f"
      },
      "execution_count": null,
      "outputs": [
        {
          "output_type": "stream",
          "name": "stdout",
          "text": [
            "(<__main__.Individual object at 0x7fb089f0a850>, 355.6)\n"
          ]
        }
      ]
    },
    {
      "cell_type": "code",
      "source": [
        "one_ind[0].describe()"
      ],
      "metadata": {
        "colab": {
          "base_uri": "https://localhost:8080/",
          "height": 966
        },
        "id": "-MR9uYpkvWn0",
        "outputId": "dd8d81be-b830-4f06-8863-b1d84e8c0211"
      },
      "execution_count": null,
      "outputs": [
        {
          "output_type": "stream",
          "name": "stdout",
          "text": [
            "Point B: [-28.87, -0.0]\n",
            "None\n",
            "Point H: [-36.04, 21.61]\n",
            "None\n",
            "Point D: [-14.66, 43.39]\n",
            "None\n",
            "Point F: [-29.06, 43.22]\n",
            "None\n",
            "Point K: [-0.14, 28.73]\n",
            "None\n",
            "Point A: [-0.0, 0.0]\n",
            "None\n",
            "Point O: [-43.07, -14.55]\n",
            "None\n",
            "Point E: [-64.75, -21.9]\n",
            "None\n",
            "Point I: [-50.48, -7.37]\n",
            "None\n",
            "Point J: [-50.59, 21.59]\n",
            "None\n",
            "Point C: [-79.29, 21.4]\n",
            "None\n",
            "Point G: [-72.08, -0.18]\n",
            "None\n",
            "Point L: [-65.09, 36.06]\n",
            "None\n",
            "Point N: [-57.57, 43.25]\n",
            "None\n",
            "Point M: [-21.5, -7.32]\n",
            "None\n"
          ]
        },
        {
          "output_type": "display_data",
          "data": {
            "text/plain": [
              "<Figure size 640x480 with 1 Axes>"
            ],
            "image/png": "[encoded data removed]"
          },
          "metadata": {}
        }
      ]
    }
  ]
}