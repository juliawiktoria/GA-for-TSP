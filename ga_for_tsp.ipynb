{
  "nbformat": 4,
  "nbformat_minor": 0,
  "metadata": {
    "colab": {
      "provenance": [],
      "collapsed_sections": [
        "L0qKXlKcQQk2"
      ],
      "mount_file_id": "1xbHUPU6WROWWjTRFFsg_e1L2u7GSx9CP",
      "authorship_tag": "ABX9TyMWv5H7FIv8tVaBw2km8oeX"
    },
    "kernelspec": {
      "name": "python3",
      "display_name": "Python 3"
    },
    "language_info": {
      "name": "python"
    }
  },
  "cells": [
    {
      "cell_type": "code",
      "execution_count": 42,
      "metadata": {
        "id": "uyshdokgohd2"
      },
      "outputs": [],
      "source": [
        "import random\n",
        "import matplotlib.pyplot as plt\n",
        "from itertools import chain, zip_longest, groupby\n",
        "import csv\n",
        "import numpy as np\n",
        "import pandas as pd"
      ]
    },
    {
      "cell_type": "markdown",
      "source": [
        "# Data preprocessing and representation"
      ],
      "metadata": {
        "id": "v2YIybGWQDU_"
      }
    },
    {
      "cell_type": "code",
      "source": [
        "class Point():\n",
        "    def __init__(self, name: str, x: float, y: float) -> None:\n",
        "        self.name = name\n",
        "        self.x_coord = round(float(x), 2)\n",
        "        self.y_coord = round(float(y), 2)\n",
        "\n",
        "    def get_name(self) -> str:\n",
        "        return self.name\n",
        "\n",
        "    def get_x(self) -> float:\n",
        "        return self.x_coord\n",
        "\n",
        "    def get_y(self) -> float:\n",
        "        return self.y_coord\n",
        "\n",
        "    def describe(self) -> str:\n",
        "        return \"Point {}: [{}, {}]\".format(self.name, self.x_coord, self.y_coord)"
      ],
      "metadata": {
        "id": "6IrEJKsLpotm"
      },
      "execution_count": 3,
      "outputs": []
    },
    {
      "cell_type": "code",
      "source": [
        "class Dataset:\n",
        "    def __init__(self, name: str, path: str) -> None:\n",
        "        self.name = name\n",
        "        self.path = path\n",
        "        self.dimension = 0\n",
        "        self.data = []\n",
        "        self.distance_function = None\n",
        "        self.parse_file()\n",
        "\n",
        "    def parse_file(self) -> None:\n",
        "        print(\">>> Processing dataset {}\".format(self.name))\n",
        "\n",
        "        cities_arr = []\n",
        "\n",
        "        with open(self.path) as file:\n",
        "            lines = file.readlines()\n",
        "\n",
        "            for line in lines:\n",
        "                if line.startswith('NAME'):\n",
        "                    self.name = line.split(':')[1].strip()\n",
        "                elif line.startswith('DIMENSION'):\n",
        "                    self.dimension = int(line.split(':')[1])\n",
        "                elif line.startswith('NODE_COORD_SECTION'):\n",
        "                    current_index = lines.index(line)\n",
        "                    coords = []\n",
        "                    for i in range(self.dimension):\n",
        "                        city_name, x, y = lines[current_index + i + 1].split()\n",
        "                        coords.append(Point(city_name, x, y))\n",
        "                    self.data = coords\n",
        "\n",
        "    def get_cities(self) -> list:\n",
        "        return self.data\n",
        "\n",
        "    def get_name(self) -> str:\n",
        "        return self.name\n",
        "\n",
        "    def get_path(self) -> str:\n",
        "        return self.path\n",
        "\n",
        "    def has_coords(self) -> bool:\n",
        "        return len(self.data) != 0\n",
        "\n",
        "    def describe(self) -> None:\n",
        "        print(\"Dataset {} with {} nodes.\".format(self.name, self.dimension))\n",
        "\n",
        "    def describe_nodes(self) -> None:\n",
        "        for coord in self.data:\n",
        "            print(coord.describe())"
      ],
      "metadata": {
        "id": "_SQ6BTpOpvja"
      },
      "execution_count": 4,
      "outputs": []
    },
    {
      "cell_type": "code",
      "source": [
        "with open('/content/drive/MyDrive/tsp/tsp_info/tsp_names.txt') as file:\n",
        "  tsp_file_names = [line.rstrip() for line in file]\n",
        "print(tsp_file_names)\n",
        "optimal_distances = pd.read_csv('/content/drive/MyDrive/tsp/tsp_info/tsp_optimal_dist.csv')\n",
        "processed_datasets = []\n",
        "for elem in tsp_file_names:\n",
        "  processed_datasets.append(Dataset(elem, '/content/drive/MyDrive/tsp/tsp_problems/{}'.format(elem)))"
      ],
      "metadata": {
        "id": "RuY9UrcSPc72",
        "colab": {
          "base_uri": "https://localhost:8080/"
        },
        "outputId": "1dfc8b41-ae80-4715-cdf8-dbb593c973f4"
      },
      "execution_count": 5,
      "outputs": [
        {
          "output_type": "stream",
          "name": "stdout",
          "text": [
            "['a280.tsp', 'ali535.tsp', 'att48.tsp', 'att532.tsp', 'bayg29.tsp', 'bays29.tsp', 'berlin52.tsp', 'bier127.tsp', 'brazil58.tsp', 'brd14051.tsp', 'brg180.tsp', 'burma14.tsp', 'ch130.tsp', 'ch150.tsp', 'd1291.tsp', 'd15112.tsp', 'd1655.tsp', 'd18512.tsp', 'd198.tsp', 'd2103.tsp', 'd493.tsp', 'd657.tsp', 'dantzig42.tsp', 'dsj1000.tsp', 'eil101.tsp', 'eil51.tsp', 'eil76.tsp', 'fl1400.tsp', 'fl1577.tsp', 'fl3795.tsp', 'fl417.tsp', 'fnl4461.tsp', 'fri26.tsp', 'gil262.tsp', 'gr120.tsp', 'gr137.tsp', 'gr17.tsp', 'gr202.tsp', 'gr21.tsp', 'gr229.tsp', 'gr24.tsp', 'gr431.tsp', 'gr48.tsp', 'gr666.tsp', 'gr96.tsp', 'hk48.tsp', 'kroA100.tsp', 'kroA150.tsp', 'kroA200.tsp', 'kroB100.tsp', 'kroB150.tsp', 'kroB200.tsp', 'kroC100.tsp', 'kroD100.tsp', 'kroE100.tsp', 'lin105.tsp', 'lin318.tsp', 'linhp318.tsp', 'nrw1379.tsp', 'p654.tsp', 'pa561.tsp', 'pcb1173.tsp', 'pcb3038.tsp', 'pcb442.tsp', 'pla33810.tsp', 'pla7397.tsp', 'pla85900.tsp', 'pr1002.tsp', 'pr107.tsp', 'pr124.tsp', 'pr136.tsp', 'pr144.tsp', 'pr152.tsp', 'pr226.tsp', 'pr2392.tsp', 'pr264.tsp', 'pr299.tsp', 'pr439.tsp', 'pr76.tsp', 'rat195.tsp', 'rat575.tsp', 'rat783.tsp', 'rat99.tsp', 'rd100.tsp', 'rd400.tsp', 'rl11849.tsp', 'rl1304.tsp', 'rl1323.tsp', 'rl1889.tsp', 'rl5915.tsp', 'rl5934.tsp', 'si1032.tsp', 'si175.tsp', 'si535.tsp', 'st70.tsp', 'swiss42.tsp', 'ts225.tsp', 'tsp225.tsp', 'u1060.tsp', 'u1432.tsp', 'u159.tsp', 'u1817.tsp', 'u2152.tsp', 'u2319.tsp', 'u574.tsp', 'u724.tsp', 'ulysses16.tsp', 'ulysses22.tsp', 'usa13509.tsp', 'vm1084.tsp', 'vm1748.tsp']\n",
            ">>> Processing dataset a280.tsp\n",
            ">>> Processing dataset ali535.tsp\n",
            ">>> Processing dataset att48.tsp\n",
            ">>> Processing dataset att532.tsp\n",
            ">>> Processing dataset bayg29.tsp\n",
            ">>> Processing dataset bays29.tsp\n",
            ">>> Processing dataset berlin52.tsp\n",
            ">>> Processing dataset bier127.tsp\n",
            ">>> Processing dataset brazil58.tsp\n",
            ">>> Processing dataset brd14051.tsp\n",
            ">>> Processing dataset brg180.tsp\n",
            ">>> Processing dataset burma14.tsp\n",
            ">>> Processing dataset ch130.tsp\n",
            ">>> Processing dataset ch150.tsp\n",
            ">>> Processing dataset d1291.tsp\n",
            ">>> Processing dataset d15112.tsp\n",
            ">>> Processing dataset d1655.tsp\n",
            ">>> Processing dataset d18512.tsp\n",
            ">>> Processing dataset d198.tsp\n",
            ">>> Processing dataset d2103.tsp\n",
            ">>> Processing dataset d493.tsp\n",
            ">>> Processing dataset d657.tsp\n",
            ">>> Processing dataset dantzig42.tsp\n",
            ">>> Processing dataset dsj1000.tsp\n",
            ">>> Processing dataset eil101.tsp\n",
            ">>> Processing dataset eil51.tsp\n",
            ">>> Processing dataset eil76.tsp\n",
            ">>> Processing dataset fl1400.tsp\n",
            ">>> Processing dataset fl1577.tsp\n",
            ">>> Processing dataset fl3795.tsp\n",
            ">>> Processing dataset fl417.tsp\n",
            ">>> Processing dataset fnl4461.tsp\n",
            ">>> Processing dataset fri26.tsp\n",
            ">>> Processing dataset gil262.tsp\n",
            ">>> Processing dataset gr120.tsp\n",
            ">>> Processing dataset gr137.tsp\n",
            ">>> Processing dataset gr17.tsp\n",
            ">>> Processing dataset gr202.tsp\n",
            ">>> Processing dataset gr21.tsp\n",
            ">>> Processing dataset gr229.tsp\n",
            ">>> Processing dataset gr24.tsp\n",
            ">>> Processing dataset gr431.tsp\n",
            ">>> Processing dataset gr48.tsp\n",
            ">>> Processing dataset gr666.tsp\n",
            ">>> Processing dataset gr96.tsp\n",
            ">>> Processing dataset hk48.tsp\n",
            ">>> Processing dataset kroA100.tsp\n",
            ">>> Processing dataset kroA150.tsp\n",
            ">>> Processing dataset kroA200.tsp\n",
            ">>> Processing dataset kroB100.tsp\n",
            ">>> Processing dataset kroB150.tsp\n",
            ">>> Processing dataset kroB200.tsp\n",
            ">>> Processing dataset kroC100.tsp\n",
            ">>> Processing dataset kroD100.tsp\n",
            ">>> Processing dataset kroE100.tsp\n",
            ">>> Processing dataset lin105.tsp\n",
            ">>> Processing dataset lin318.tsp\n",
            ">>> Processing dataset linhp318.tsp\n",
            ">>> Processing dataset nrw1379.tsp\n",
            ">>> Processing dataset p654.tsp\n",
            ">>> Processing dataset pa561.tsp\n",
            ">>> Processing dataset pcb1173.tsp\n",
            ">>> Processing dataset pcb3038.tsp\n",
            ">>> Processing dataset pcb442.tsp\n",
            ">>> Processing dataset pla33810.tsp\n",
            ">>> Processing dataset pla7397.tsp\n",
            ">>> Processing dataset pla85900.tsp\n",
            ">>> Processing dataset pr1002.tsp\n",
            ">>> Processing dataset pr107.tsp\n",
            ">>> Processing dataset pr124.tsp\n",
            ">>> Processing dataset pr136.tsp\n",
            ">>> Processing dataset pr144.tsp\n",
            ">>> Processing dataset pr152.tsp\n",
            ">>> Processing dataset pr226.tsp\n",
            ">>> Processing dataset pr2392.tsp\n",
            ">>> Processing dataset pr264.tsp\n",
            ">>> Processing dataset pr299.tsp\n",
            ">>> Processing dataset pr439.tsp\n",
            ">>> Processing dataset pr76.tsp\n",
            ">>> Processing dataset rat195.tsp\n",
            ">>> Processing dataset rat575.tsp\n",
            ">>> Processing dataset rat783.tsp\n",
            ">>> Processing dataset rat99.tsp\n",
            ">>> Processing dataset rd100.tsp\n",
            ">>> Processing dataset rd400.tsp\n",
            ">>> Processing dataset rl11849.tsp\n",
            ">>> Processing dataset rl1304.tsp\n",
            ">>> Processing dataset rl1323.tsp\n",
            ">>> Processing dataset rl1889.tsp\n",
            ">>> Processing dataset rl5915.tsp\n",
            ">>> Processing dataset rl5934.tsp\n",
            ">>> Processing dataset si1032.tsp\n",
            ">>> Processing dataset si175.tsp\n",
            ">>> Processing dataset si535.tsp\n",
            ">>> Processing dataset st70.tsp\n",
            ">>> Processing dataset swiss42.tsp\n",
            ">>> Processing dataset ts225.tsp\n",
            ">>> Processing dataset tsp225.tsp\n",
            ">>> Processing dataset u1060.tsp\n",
            ">>> Processing dataset u1432.tsp\n",
            ">>> Processing dataset u159.tsp\n",
            ">>> Processing dataset u1817.tsp\n",
            ">>> Processing dataset u2152.tsp\n",
            ">>> Processing dataset u2319.tsp\n",
            ">>> Processing dataset u574.tsp\n",
            ">>> Processing dataset u724.tsp\n",
            ">>> Processing dataset ulysses16.tsp\n",
            ">>> Processing dataset ulysses22.tsp\n",
            ">>> Processing dataset usa13509.tsp\n",
            ">>> Processing dataset vm1084.tsp\n",
            ">>> Processing dataset vm1748.tsp\n"
          ]
        }
      ]
    },
    {
      "cell_type": "code",
      "source": [
        "names = ['att48', 'bier127', 'fri26', 'gr17', 'pr226']\n",
        "names = ['burma14']\n",
        "used_datasets = [dataset for dataset in processed_datasets if dataset.get_name() in names]\n",
        "print(used_datasets[0].get_name())\n",
        "print(used_datasets[0].has_coords())\n",
        "used_datasets[0].describe_nodes()"
      ],
      "metadata": {
        "id": "h5wMkoRqJmho",
        "colab": {
          "base_uri": "https://localhost:8080/"
        },
        "outputId": "89c69112-f75e-47df-c2c3-7760f2f4db8e"
      },
      "execution_count": 6,
      "outputs": [
        {
          "output_type": "stream",
          "name": "stdout",
          "text": [
            "burma14\n",
            "True\n",
            "Point 1: [16.47, 96.1]\n",
            "Point 2: [16.47, 94.44]\n",
            "Point 3: [20.09, 92.54]\n",
            "Point 4: [22.39, 93.37]\n",
            "Point 5: [25.23, 97.24]\n",
            "Point 6: [22.0, 96.05]\n",
            "Point 7: [20.47, 97.02]\n",
            "Point 8: [17.2, 96.29]\n",
            "Point 9: [16.3, 97.38]\n",
            "Point 10: [14.05, 98.12]\n",
            "Point 11: [16.53, 97.38]\n",
            "Point 12: [21.52, 95.59]\n",
            "Point 13: [19.41, 97.13]\n",
            "Point 14: [20.09, 94.55]\n"
          ]
        }
      ]
    },
    {
      "cell_type": "code",
      "source": [
        "def get_distance(point_a, point_b):\n",
        "    distance = ((point_a.get_x() - point_b.get_x()) ** 2 + (point_a.get_y() - point_b.get_y() )** 2) ** 0.5\n",
        "    return distance"
      ],
      "metadata": {
        "id": "lkUKWz4WprS-"
      },
      "execution_count": 7,
      "outputs": []
    },
    {
      "cell_type": "code",
      "source": [
        "cols = ['iterations', 'dataset_name', 'population_size', 'num_of_generations', 'mutation_operator_name', 'iteration', 'generation', 'best_fitness', 'worst_fitness', 'avg_fitness', 'fitness_std', 'best_path']\n",
        "final_results_df = pd.DataFrame(columns=cols)"
      ],
      "metadata": {
        "id": "i4CsRpUWy8cm"
      },
      "execution_count": 8,
      "outputs": []
    },
    {
      "cell_type": "code",
      "source": [
        "final_results_df"
      ],
      "metadata": {
        "colab": {
          "base_uri": "https://localhost:8080/",
          "height": 53
        },
        "id": "D9MGcwBy08u-",
        "outputId": "ff2bfb8d-45e4-4992-c3bb-e7825c98c00a"
      },
      "execution_count": 9,
      "outputs": [
        {
          "output_type": "execute_result",
          "data": {
            "text/plain": [
              "Empty DataFrame\n",
              "Columns: [iterations, dataset_name, population_size, num_of_generations, mutation_operator_name, iteration, generation, best_fitness, worst_fitness, avg_fitness, fitness_std, best_path]\n",
              "Index: []"
            ],
            "text/html": [
              "\n",
              "  <div id=\"df-12121510-44fa-4e5d-8f3f-f3ad74eb4042\" class=\"colab-df-container\">\n",
              "    <div>\n",
              "<style scoped>\n",
              "    .dataframe tbody tr th:only-of-type {\n",
              "        vertical-align: middle;\n",
              "    }\n",
              "\n",
              "    .dataframe tbody tr th {\n",
              "        vertical-align: top;\n",
              "    }\n",
              "\n",
              "    .dataframe thead th {\n",
              "        text-align: right;\n",
              "    }\n",
              "</style>\n",
              "<table border=\"1\" class=\"dataframe\">\n",
              "  <thead>\n",
              "    <tr style=\"text-align: right;\">\n",
              "      <th></th>\n",
              "      <th>iterations</th>\n",
              "      <th>dataset_name</th>\n",
              "      <th>population_size</th>\n",
              "      <th>num_of_generations</th>\n",
              "      <th>mutation_operator_name</th>\n",
              "      <th>iteration</th>\n",
              "      <th>generation</th>\n",
              "      <th>best_fitness</th>\n",
              "      <th>worst_fitness</th>\n",
              "      <th>avg_fitness</th>\n",
              "      <th>fitness_std</th>\n",
              "      <th>best_path</th>\n",
              "    </tr>\n",
              "  </thead>\n",
              "  <tbody>\n",
              "  </tbody>\n",
              "</table>\n",
              "</div>\n",
              "    <div class=\"colab-df-buttons\">\n",
              "\n",
              "  <div class=\"colab-df-container\">\n",
              "    <button class=\"colab-df-convert\" onclick=\"convertToInteractive('df-12121510-44fa-4e5d-8f3f-f3ad74eb4042')\"\n",
              "            title=\"Convert this dataframe to an interactive table.\"\n",
              "            style=\"display:none;\">\n",
              "\n",
              "  <svg xmlns=\"http://www.w3.org/2000/svg\" height=\"24px\" viewBox=\"0 -960 960 960\">\n",
              "    <path d=\"M120-120v-720h720v720H120Zm60-500h600v-160H180v160Zm220 220h160v-160H400v160Zm0 220h160v-160H400v160ZM180-400h160v-160H180v160Zm440 0h160v-160H620v160ZM180-180h160v-160H180v160Zm440 0h160v-160H620v160Z\"/>\n",
              "  </svg>\n",
              "    </button>\n",
              "\n",
              "  <style>\n",
              "    .colab-df-container {\n",
              "      display:flex;\n",
              "      gap: 12px;\n",
              "    }\n",
              "\n",
              "    .colab-df-convert {\n",
              "      background-color: #E8F0FE;\n",
              "      border: none;\n",
              "      border-radius: 50%;\n",
              "      cursor: pointer;\n",
              "      display: none;\n",
              "      fill: #1967D2;\n",
              "      height: 32px;\n",
              "      padding: 0 0 0 0;\n",
              "      width: 32px;\n",
              "    }\n",
              "\n",
              "    .colab-df-convert:hover {\n",
              "      background-color: #E2EBFA;\n",
              "      box-shadow: 0px 1px 2px rgba(60, 64, 67, 0.3), 0px 1px 3px 1px rgba(60, 64, 67, 0.15);\n",
              "      fill: #174EA6;\n",
              "    }\n",
              "\n",
              "    .colab-df-buttons div {\n",
              "      margin-bottom: 4px;\n",
              "    }\n",
              "\n",
              "    [theme=dark] .colab-df-convert {\n",
              "      background-color: #3B4455;\n",
              "      fill: #D2E3FC;\n",
              "    }\n",
              "\n",
              "    [theme=dark] .colab-df-convert:hover {\n",
              "      background-color: #434B5C;\n",
              "      box-shadow: 0px 1px 3px 1px rgba(0, 0, 0, 0.15);\n",
              "      filter: drop-shadow(0px 1px 2px rgba(0, 0, 0, 0.3));\n",
              "      fill: #FFFFFF;\n",
              "    }\n",
              "  </style>\n",
              "\n",
              "    <script>\n",
              "      const buttonEl =\n",
              "        document.querySelector('#df-12121510-44fa-4e5d-8f3f-f3ad74eb4042 button.colab-df-convert');\n",
              "      buttonEl.style.display =\n",
              "        google.colab.kernel.accessAllowed ? 'block' : 'none';\n",
              "\n",
              "      async function convertToInteractive(key) {\n",
              "        const element = document.querySelector('#df-12121510-44fa-4e5d-8f3f-f3ad74eb4042');\n",
              "        const dataTable =\n",
              "          await google.colab.kernel.invokeFunction('convertToInteractive',\n",
              "                                                    [key], {});\n",
              "        if (!dataTable) return;\n",
              "\n",
              "        const docLinkHtml = 'Like what you see? Visit the ' +\n",
              "          '<a target=\"_blank\" href=https://colab.research.google.com/notebooks/data_table.ipynb>data table notebook</a>'\n",
              "          + ' to learn more about interactive tables.';\n",
              "        element.innerHTML = '';\n",
              "        dataTable['output_type'] = 'display_data';\n",
              "        await google.colab.output.renderOutput(dataTable, element);\n",
              "        const docLink = document.createElement('div');\n",
              "        docLink.innerHTML = docLinkHtml;\n",
              "        element.appendChild(docLink);\n",
              "      }\n",
              "    </script>\n",
              "  </div>\n",
              "\n",
              "    </div>\n",
              "  </div>\n"
            ]
          },
          "metadata": {},
          "execution_count": 9
        }
      ]
    },
    {
      "cell_type": "markdown",
      "source": [
        "# Mutations"
      ],
      "metadata": {
        "id": "L0qKXlKcQQk2"
      }
    },
    {
      "cell_type": "code",
      "source": [
        "class Mutation:\n",
        "    def mutate(self, path: list):\n",
        "        raise NotImplementedError(\"Method mutate() was not implemented!\")"
      ],
      "metadata": {
        "id": "zq8VC8_rpch7"
      },
      "execution_count": 10,
      "outputs": []
    },
    {
      "cell_type": "code",
      "source": [
        "class SwapMutation:\n",
        "    def __init__(self) -> None:\n",
        "        super().__init__()\n",
        "        self.name = \"Swap Mutation\"\n",
        "\n",
        "    def get_name(self) -> str:\n",
        "      return self.name\n",
        "\n",
        "    def mutate(self, path: list) -> list:\n",
        "        # print(\"Performing Swap Mutation\")\n",
        "\n",
        "        number_of_swaps = random.randint(1, len(path) // 2)\n",
        "\n",
        "        for i in range(number_of_swaps):\n",
        "            indices = random.sample(range(0, len(path) - 1), 2)\n",
        "            first, second = indices[0], indices[1]\n",
        "\n",
        "            path[first], path[second] = path[second], path[first]\n",
        "\n",
        "        return path"
      ],
      "metadata": {
        "id": "EPPt-Lkcdn7R"
      },
      "execution_count": 11,
      "outputs": []
    },
    {
      "cell_type": "code",
      "source": [
        "class ReverseMutation(Mutation):\n",
        "    def __init__(self) -> None:\n",
        "        super().__init__()\n",
        "        self.name = \"Reverse Mutation\"\n",
        "\n",
        "    def get_name(self) -> str:\n",
        "      return self.name\n",
        "\n",
        "    def mutate(self, path: list) -> list:\n",
        "        # print(\"performing reverse mutation\")\n",
        "\n",
        "        mut_len = random.randint(1, len(path) // 2)\n",
        "\n",
        "        start_ind = random.randint(0, mut_len - 1)\n",
        "        end_ind = start_ind + mut_len - 1\n",
        "\n",
        "        path[start_ind:end_ind + 1] = path[start_ind:end_ind + 1][::-1]\n",
        "        return path"
      ],
      "metadata": {
        "id": "sx_MDepepdM9"
      },
      "execution_count": 12,
      "outputs": []
    },
    {
      "cell_type": "code",
      "source": [
        "class ExchangeMutation(Mutation):\n",
        "    def __init__(self) -> None:\n",
        "        super().__init__()\n",
        "        self.name = \"Exchange Mutation\"\n",
        "\n",
        "    def get_name(self) -> str:\n",
        "      return self.name\n",
        "\n",
        "    def mutate(self, path: list) -> list:\n",
        "        # print(\"performing exchange mutation\")\n",
        "\n",
        "        mut_len = random.randint(1, len(path) // 2)\n",
        "        # print(\"mut len: {}\".format(mut_len))\n",
        "\n",
        "        start_ind = random.randint(0, mut_len - 1)\n",
        "        end_ind = start_ind + mut_len - 1\n",
        "        # print(\"start ind {} and end ind {}\".format(start_ind, end_ind))\n",
        "        # print(individual)\n",
        "        path[start_ind:end_ind + 1] = path[start_ind:end_ind + 1][::-1]\n",
        "\n",
        "        subtour_ind = []\n",
        "        for i in range(start_ind, end_ind + 1):\n",
        "            subtour_ind.append(i)\n",
        "\n",
        "        idices = []\n",
        "        for i in range(start_ind):\n",
        "            idices.append(i)\n",
        "\n",
        "        for i in range(end_ind + 1, len(path) - 1):\n",
        "            idices.append(i)\n",
        "        # print(\"subtour ind: {}\".format(subtour_ind))\n",
        "        # print(\"outside ind: {}\".format(idices))\n",
        "        # choose a city in the substring and out the substring and swap them\n",
        "        swapping_ind_subtour = random.choice(subtour_ind)\n",
        "        swapping_ind_outside = random.choice(idices)\n",
        "        path[swapping_ind_outside], path[swapping_ind_subtour] = path[swapping_ind_subtour], path[swapping_ind_outside]\n",
        "        return path"
      ],
      "metadata": {
        "id": "m1hhyrrypfYN"
      },
      "execution_count": 13,
      "outputs": []
    },
    {
      "cell_type": "code",
      "source": [
        "class DisplacementMutation(Mutation):\n",
        "    def __init__(self) -> None:\n",
        "        super().__init__()\n",
        "        self.name = \"Displacement Mutation\"\n",
        "\n",
        "    def get_name(self) -> str:\n",
        "      return self.name\n",
        "\n",
        "    def mutate(self, path: list) -> list:\n",
        "        # print(\"performing displacement mutation\")\n",
        "\n",
        "        mut_len = random.randint(1, len(path) // 2)\n",
        "        # print(\"mut len: {}\".format(mut_len))\n",
        "\n",
        "        start_ind = random.randint(0, mut_len - 1)\n",
        "        end_ind = start_ind + mut_len - 1\n",
        "        # print(\"start ind {} and end ind {}\".format(start_ind, end_ind))\n",
        "        # print(individual)\n",
        "        path[start_ind:end_ind + 1] = path[start_ind:end_ind + 1][::-1]\n",
        "\n",
        "        subtour_ind = []\n",
        "        for i in range(start_ind, end_ind + 1):\n",
        "            subtour_ind.append(i)\n",
        "\n",
        "        idices = []\n",
        "        for i in range(start_ind):\n",
        "            idices.append(i)\n",
        "\n",
        "        for i in range(end_ind + 1, len(path) - 1):\n",
        "            idices.append(i)\n",
        "\n",
        "\n",
        "        rand_ind = random.choice(idices)\n",
        "\n",
        "        if rand_ind < start_ind:\n",
        "            left_one = path[0:rand_ind]\n",
        "            left_two = path[rand_ind:start_ind]\n",
        "            subtour = path[start_ind:end_ind + 1]\n",
        "            right = path[end_ind + 1:]\n",
        "            path = left_one + subtour + left_two + right\n",
        "\n",
        "        if rand_ind > end_ind:\n",
        "            right_one = path[end_ind + 1:rand_ind]\n",
        "            right_two = path[rand_ind:]\n",
        "            subtour = path[start_ind:end_ind + 1]\n",
        "            left = path[0:start_ind]\n",
        "            path = left + right_one + subtour + right_two\n",
        "\n",
        "        return path"
      ],
      "metadata": {
        "id": "z90qwMeWpjYN"
      },
      "execution_count": 14,
      "outputs": []
    },
    {
      "cell_type": "code",
      "source": [
        "class EvenOddMutation(Mutation):\n",
        "    def __init__(self) -> None:\n",
        "        super().__init__()\n",
        "        self.name = \"Even-Odd Mutation\"\n",
        "\n",
        "    def get_name(self) -> str:\n",
        "      return self.name\n",
        "\n",
        "    def mutate(self, path: list) -> list:\n",
        "\n",
        "        mut_len = random.randint(3, len(path) // 2)\n",
        "\n",
        "        start_ind = random.randint(0, mut_len - 1)\n",
        "        end_ind = start_ind + mut_len - 1\n",
        "\n",
        "        subtour = path[start_ind:end_ind + 1]\n",
        "        first = []\n",
        "        second = []\n",
        "        for i in range(0, len(subtour)):\n",
        "            if i % 2 == 0:\n",
        "                first.append(subtour[i])\n",
        "            else:\n",
        "                second.append(subtour[i])\n",
        "        first = [first[-1]] + first[:-1]\n",
        "        second = [second[-1]] + second[:-1]\n",
        "\n",
        "        new = list(filter(None.__ne__ .chain.from_iterable(zip_longest(first,second))))\n",
        "        path[start_ind:end_ind + 1] = new\n",
        "\n",
        "        return path"
      ],
      "metadata": {
        "id": "Q9YGuYB-plVu"
      },
      "execution_count": 15,
      "outputs": []
    },
    {
      "cell_type": "code",
      "source": [
        "class ShuffleMutation(Mutation):\n",
        "    def __init__(self):\n",
        "        super().__init__()\n",
        "        self.name = \"Even-Odd Mutation\"\n",
        "\n",
        "    def get_name(self) -> str:\n",
        "      return self.name\n",
        "\n",
        "    def mutate(self, path: list) -> list:\n",
        "      mut_len = random.randint(2, len(path) // 2)\n",
        "\n",
        "      start_ind = random.randint(1, mut_len - 1)\n",
        "      end_ind = start_ind + mut_len - 1\n",
        "\n",
        "      list_left = path[0:start_ind]\n",
        "\n",
        "      list_mid = path[start_ind:end_ind]\n",
        "\n",
        "      list_right = path[end_ind:]\n",
        "\n",
        "      random.shuffle(list_mid)\n",
        "\n",
        "      return list_left + list_mid + list_right"
      ],
      "metadata": {
        "id": "Rw53qaOmOeJO"
      },
      "execution_count": 16,
      "outputs": []
    },
    {
      "cell_type": "code",
      "source": [
        "mutations = [SwapMutation(), ShuffleMutation(), EvenOddMutation(), DisplacementMutation(), ExchangeMutation(), ReverseMutation()]"
      ],
      "metadata": {
        "id": "hCeyYyqmHwPH"
      },
      "execution_count": 17,
      "outputs": []
    },
    {
      "cell_type": "code",
      "source": [
        "mutations = [ReverseMutation()]"
      ],
      "metadata": {
        "id": "K_-mOqNSyEnm"
      },
      "execution_count": 18,
      "outputs": []
    },
    {
      "cell_type": "code",
      "source": [
        "cols = ['iterations', 'dataset_name', 'population_size', 'num_of_generations', 'mutation_operator_name']\n",
        "experiments_specifications = pd.DataFrame(columns=cols)"
      ],
      "metadata": {
        "id": "LwuzlmG2GY1A"
      },
      "execution_count": 19,
      "outputs": []
    },
    {
      "cell_type": "code",
      "source": [
        "iteration = [00]\n",
        "pop_sizes = [10, 50, 100, 200]\n",
        "generations = [100, 200, 500, 1000]"
      ],
      "metadata": {
        "id": "kNP98CXsGw9j"
      },
      "execution_count": 20,
      "outputs": []
    },
    {
      "cell_type": "code",
      "source": [
        "for i in iteration:\n",
        "  for j in used_datasets:\n",
        "    for k in pop_sizes:\n",
        "      for l in generations:\n",
        "        for m in mutations:\n",
        "          new_row = [i, j.get_name(), k, l, m.get_name()]\n",
        "          experiments_specifications.loc[len(experiments_specifications)] = new_row"
      ],
      "metadata": {
        "id": "9avI6vgTH9_r"
      },
      "execution_count": 21,
      "outputs": []
    },
    {
      "cell_type": "code",
      "source": [
        "experiments_specifications.to_csv('/content/drive/MyDrive/tsp/experiment_specifications.csv')"
      ],
      "metadata": {
        "id": "0zMYGGwJJLWV"
      },
      "execution_count": 22,
      "outputs": []
    },
    {
      "cell_type": "markdown",
      "source": [
        "# Algoritm"
      ],
      "metadata": {
        "id": "c8R8R2TpRAhT"
      }
    },
    {
      "cell_type": "code",
      "source": [
        "class Individual:\n",
        "    def __init__(self, data: list, mutations: list) -> None:\n",
        "        self.data = data\n",
        "        self.length = len(self.data)\n",
        "        self.fitness = 0\n",
        "        self.mutation_operators = mutations\n",
        "\n",
        "        self.calculate_fitness()\n",
        "\n",
        "    def describe(self) -> None:\n",
        "        fig, ax = plt.subplots()\n",
        "\n",
        "        for elem in self.data:\n",
        "            print(elem.describe())\n",
        "\n",
        "            ax.scatter(elem.get_x(), elem.get_y(), linewidths=1.0)\n",
        "            ax.annotate(elem.get_name(), (elem.get_x() + 0.25, elem.get_y() + 0.25))\n",
        "\n",
        "        plt.show()\n",
        "\n",
        "    def get_readable_solution(self) -> list:\n",
        "        solution = self.data\n",
        "        result = []\n",
        "        for elem in self.data:\n",
        "          result.append(elem.describe())\n",
        "        return result\n",
        "\n",
        "    def get_fitness(self) -> float:\n",
        "        return self.fitness\n",
        "\n",
        "    def get_length(self) -> int:\n",
        "        return self.length\n",
        "\n",
        "    def get_individual_solution(self) -> list:\n",
        "        return self.data\n",
        "\n",
        "    def get_mutations(self) -> list:\n",
        "        return self.mutation_operators\n",
        "\n",
        "    def calculate_fitness(self) -> float:\n",
        "        for i in range(0, self.length - 2):\n",
        "            self.fitness += get_distance(self.data[i], self.data[i + 1])\n",
        "        self.fitness += get_distance(self.data[-1], self.data[0])\n",
        "        self.fitness = round(self.fitness, 2)\n",
        "\n",
        "    def mutate(self) -> None:\n",
        "        mutation_possibility = random.uniform(0, 1)\n",
        "\n",
        "        if mutation_possibility <= PROBABILITY:\n",
        "            self.mutation_operator = random.choice(self.mutation_operators)\n",
        "            self.data = self.mutation_operator.mutate(self.data)\n",
        "        self.calculate_fitness()"
      ],
      "metadata": {
        "id": "bXrQTGa7pQvx"
      },
      "execution_count": 23,
      "outputs": []
    },
    {
      "cell_type": "code",
      "source": [
        "class CrossoverOperator:\n",
        "    def perform_crossover(self, parent_a: Individual, parent_b: Individual):\n",
        "        raise NotImplementedError(\"Method perform_crossover() was not implemented!\")"
      ],
      "metadata": {
        "id": "J_PdFf9h-goq"
      },
      "execution_count": 24,
      "outputs": []
    },
    {
      "cell_type": "code",
      "source": [
        "class SinglePointCrossover(CrossoverOperator):\n",
        "  def __init__(self) -> None:\n",
        "    super().__init__()\n",
        "    self.name = \"Single Point Crossover\"\n",
        "\n",
        "  def get_name(self) -> str:\n",
        "    return self.name\n",
        "\n",
        "  def perform_crossover(self, parent_a: Individual, parent_b: Individual) -> Individual:\n",
        "    # TODO: make sure pivot is not 0 or len-1\n",
        "    pivot = random.randrange(1, parent_a.get_length() - 1)\n",
        "    print(pivot)\n",
        "\n",
        "    data_a = parent_a.get_individual_solution()\n",
        "    data_b = parent_b.get_individual_solution()\n",
        "\n",
        "    child_a = Individual(data_a[:pivot] + data_b[pivot:], parent_a.get_mutations())\n",
        "    child_b = Individual(data_b[:pivot] + data_a[pivot:], parent_b.get_mutations())\n",
        "\n",
        "    if child_a.get_fitness() <= child_b.get_fitness():\n",
        "      return child_a\n",
        "    else:\n",
        "      return child_b"
      ],
      "metadata": {
        "id": "eDmwS_rd_VQD"
      },
      "execution_count": 25,
      "outputs": []
    },
    {
      "cell_type": "code",
      "source": [
        "# get a random point from the gr17 dataset\n",
        "def get_random_two_paths(dataset: Dataset) -> Individual:\n",
        "  return Individual(dataset.get_cities(), [ReverseMutation()]), Individual(dataset.get_cities()[::-1], [ReverseMutation()])\n",
        "\n",
        "ind1, ind2 = get_random_two_paths(used_datasets[0])\n",
        "print(ind1.get_length())\n",
        "print(ind1.get_readable_solution())\n",
        "print(ind2.get_length())\n",
        "print(ind2.get_readable_solution())\n",
        "\n",
        "print('testing single point crossover')\n",
        "spc = SinglePointCrossover()\n",
        "\n",
        "result = spc.perform_crossover(ind1, ind2)\n",
        "\n",
        "print(result.get_readable_solution())"
      ],
      "metadata": {
        "colab": {
          "base_uri": "https://localhost:8080/"
        },
        "id": "oWyWf7X8HLZy",
        "outputId": "945efad1-a27e-4d71-fb0d-e80126d24e12"
      },
      "execution_count": 26,
      "outputs": [
        {
          "output_type": "stream",
          "name": "stdout",
          "text": [
            "14\n",
            "['Point 1: [16.47, 96.1]', 'Point 2: [16.47, 94.44]', 'Point 3: [20.09, 92.54]', 'Point 4: [22.39, 93.37]', 'Point 5: [25.23, 97.24]', 'Point 6: [22.0, 96.05]', 'Point 7: [20.47, 97.02]', 'Point 8: [17.2, 96.29]', 'Point 9: [16.3, 97.38]', 'Point 10: [14.05, 98.12]', 'Point 11: [16.53, 97.38]', 'Point 12: [21.52, 95.59]', 'Point 13: [19.41, 97.13]', 'Point 14: [20.09, 94.55]']\n",
            "14\n",
            "['Point 14: [20.09, 94.55]', 'Point 13: [19.41, 97.13]', 'Point 12: [21.52, 95.59]', 'Point 11: [16.53, 97.38]', 'Point 10: [14.05, 98.12]', 'Point 9: [16.3, 97.38]', 'Point 8: [17.2, 96.29]', 'Point 7: [20.47, 97.02]', 'Point 6: [22.0, 96.05]', 'Point 5: [25.23, 97.24]', 'Point 4: [22.39, 93.37]', 'Point 3: [20.09, 92.54]', 'Point 2: [16.47, 94.44]', 'Point 1: [16.47, 96.1]']\n",
            "testing single point crossover\n",
            "7\n",
            "['Point 14: [20.09, 94.55]', 'Point 13: [19.41, 97.13]', 'Point 12: [21.52, 95.59]', 'Point 11: [16.53, 97.38]', 'Point 10: [14.05, 98.12]', 'Point 9: [16.3, 97.38]', 'Point 8: [17.2, 96.29]', 'Point 8: [17.2, 96.29]', 'Point 9: [16.3, 97.38]', 'Point 10: [14.05, 98.12]', 'Point 11: [16.53, 97.38]', 'Point 12: [21.52, 95.59]', 'Point 13: [19.41, 97.13]', 'Point 14: [20.09, 94.55]']\n"
          ]
        }
      ]
    },
    {
      "cell_type": "code",
      "source": [
        "class DoublePointCrossover(CrossoverOperator):\n",
        "  def __init__(self) -> None:\n",
        "    super().__init__()\n",
        "    self.name = \"Double Point Crossover\"\n",
        "\n",
        "  def get_name(self) -> str:\n",
        "    return self.name\n",
        "\n",
        "  def perform_crossover(self, parent_a: Individual, parent_b: Individual):\n",
        "    pivot_a = random.randint(1, parent_a.get_length() - 2)\n",
        "    pivot_b = random.randint(1, parent_a.get_length() - 2)\n",
        "\n",
        "    # assure pivots are different indices\n",
        "    while pivot_a == pivot_b:\n",
        "      pivot_b = random.randint(1, parent_a.get_length() - 2)\n",
        "\n",
        "    # assure pivot_a is smaller than pivot_b\n",
        "    if pivot_a > pivot_b:\n",
        "      pivot_a, pivot_b = pivot_b, pivot_a\n",
        "\n",
        "    child_a = parent_a[:pivot_a] + parent_b[pivot_a:pivot_b] + parent_a[pivot_b:]\n",
        "    child_b = parent_b[:pivot_a] + parent_a[pivot_a:pivot_b] + parent_b[pivot_b:]\n",
        "\n",
        "    individual_1, individual_2 = Individual(child_1, self.which_mutation), Individual(child_2, self.which_mutation)\n",
        "\n",
        "    # generates two children and chooses the better one\n",
        "    if individual_1.get_fitness() < individual_2.get_fitness():\n",
        "        result = individual_1\n",
        "    else:\n",
        "        result = individual_2\n",
        "\n",
        "    return result"
      ],
      "metadata": {
        "id": "fn9JSSsv_P_l"
      },
      "execution_count": 27,
      "outputs": []
    },
    {
      "cell_type": "code",
      "source": [
        "results = pd.DataFrame()"
      ],
      "metadata": {
        "id": "Xq_hHICfGwJj"
      },
      "execution_count": 28,
      "outputs": []
    },
    {
      "cell_type": "code",
      "source": [
        "class Population:\n",
        "  def __init__(self, individuals: list) -> None:\n",
        "    self.individuals = individuals\n",
        "    self.fitness = 0\n",
        "\n",
        "    self.calculate_fitness()\n",
        "\n",
        "  def add(self, individual: Individual) -> None:\n",
        "    self.individuals.append(individual)\n",
        "\n",
        "  def remove(self, individual: Individual) -> None:\n",
        "    self.inidividuals.remove(individual)\n",
        "\n",
        "  def sort_population(self, desc=True) -> None:\n",
        "    self.individuals.sort(key= lambda x: x.fitness, reverse=True)\n",
        "\n",
        "  def get_fittest(self) -> Individual:\n",
        "    self.sort_population()\n",
        "    return self.individuals[0]\n",
        "\n",
        "  def get_worst(self) -> Individual:\n",
        "    self.sort_population()\n",
        "    return self.individuals[-1]\n",
        "\n",
        "  def calc_fitness(self) -> None:\n",
        "    result = 0\n",
        "    for ind in self.individuals:\n",
        "      result += ind.get_fitness()\n",
        "    self.fitness = result\n",
        "\n",
        "  def get_fitness(self) -> float:\n",
        "    self.calculate_fitness()\n",
        "    return self.fitness"
      ],
      "metadata": {
        "id": "MheJ3cwT3Vqf"
      },
      "execution_count": 29,
      "outputs": []
    },
    {
      "cell_type": "code",
      "source": [
        "class TournamentSelection:\n",
        "  def __init__(self):\n",
        "    self.name = \"Tournament Selection\""
      ],
      "metadata": {
        "id": "llrusx6bR_8j"
      },
      "execution_count": null,
      "outputs": []
    },
    {
      "cell_type": "code",
      "source": [
        "class ProportionalRouletteSelection:\n",
        "  def __init__(self):\n",
        "    self.name = \"Proportional Roulette Selection\""
      ],
      "metadata": {
        "id": "0WYgh4VYSIWD"
      },
      "execution_count": null,
      "outputs": []
    },
    {
      "cell_type": "code",
      "source": [
        "class RankBasedRouletteSelection:\n",
        "  def __init__(self):\n",
        "    self.name = \"Rank Based Roulette Selection\""
      ],
      "metadata": {
        "id": "b2XbNjoHSUMb"
      },
      "execution_count": null,
      "outputs": []
    },
    {
      "cell_type": "code",
      "source": [
        "class GeneticAlgorithm:\n",
        "    def __init__(self, pop_size: int, gen_num: int, dataset: Dataset, mutation: Mutation, path_to_result_file: str, rep: int) -> None:\n",
        "        self.population_size = pop_size\n",
        "        self.current_generation = [] # an array of size of population_size of Individuals\n",
        "        self.number_of_generations = gen_num\n",
        "        self.best_per_gen = []\n",
        "        self.worst_per_gen = []\n",
        "        self.avg_per_gen = []\n",
        "        self.dataset = dataset\n",
        "        self.current_parents = []\n",
        "        self.generation_fitness = 0\n",
        "        self.which_generation = 0\n",
        "        self.which_mutation = mutation\n",
        "        self.result_file = path_to_result_file\n",
        "        self.which_rep = rep\n",
        "\n",
        "    def increment_generation(self) -> None:\n",
        "        self.which_generation += 1\n",
        "\n",
        "    def run(self) -> Individual:\n",
        "      # print(\"\\tRunning the GA with population size [{}] for {} generations.\".format(\n",
        "      #     self.population_size,\n",
        "      #     self.number_of_generations))\n",
        "\n",
        "      # initialize population\n",
        "      self.initialise_population()\n",
        "\n",
        "      for i in range(self.number_of_generations):\n",
        "          self.increment_generation()\n",
        "\n",
        "          self.current_parents = []\n",
        "          self.current_parents = self.parent_selection()\n",
        "\n",
        "          self.current_generation = self.kill_worst_individuals()\n",
        "          self.generate_offspring()\n",
        "          self.calculate_current_generation_fitness()\n",
        "\n",
        "          self.save_current_generation_info()\n",
        "          print(\"best dist in gen {}: {}, gen fitness {}\".format(i, self.current_generation[0].get_fitness(), self.generation_fitness))\n",
        "\n",
        "      # return a list of best individuals per generation\n",
        "      return self.best_per_gen\n",
        "\n",
        "    def kill_worst_individuals(self):\n",
        "        smaller_generation = self.current_generation[:len(self.current_generation)//2]\n",
        "        return smaller_generation\n",
        "\n",
        "    def initialise_population(self):\n",
        "        # generates a population of the given size\n",
        "        starting_path = self.dataset.get_cities()\n",
        "\n",
        "        self.current_generation = [Individual(list(np.random.permutation(starting_path)), self.which_mutation) for _ in range(self.population_size)]\n",
        "        population_fitness = self.calculate_current_generation_fitness()\n",
        "\n",
        "        self.current_generation.sort(key= lambda x: x.fitness)\n",
        "        self.save_current_generation_info()\n",
        "\n",
        "    def save_current_generation_info(self):\n",
        "      # sorting the population based on the distance\n",
        "        self.current_generation.sort(key= lambda x: x.fitness)\n",
        "        self.best_per_gen.append((self.current_generation[0], self.current_generation[0].get_fitness()))\n",
        "\n",
        "        with open(self.result_file, 'a') as result_file:\n",
        "            row = [self.which_rep,\n",
        "                   self.dataset.get_name(),\n",
        "                   self.population_size,\n",
        "                   self.which_generation,\n",
        "                   self.number_of_generations,\n",
        "                   self.current_generation[0].get_fitness(),\n",
        "                   self.current_generation[-1].get_fitness(),\n",
        "                   np.mean([elem.fitness for elem in self.current_generation]),\n",
        "                   self.generation_fitness\n",
        "                   ]\n",
        "\n",
        "            writer = csv.writer(result_file)\n",
        "            writer.writerow(row)\n",
        "\n",
        "    def calculate_current_generation_fitness(self):\n",
        "        self.generation_fitness = 0\n",
        "        for individual_path in self.current_generation:\n",
        "            self.generation_fitness += individual_path.get_fitness()\n",
        "        return self.generation_fitness\n",
        "\n",
        "    def parent_selection(self):\n",
        "        # select two fittest individuals to be parents\n",
        "        # sorting the population based on the distance\n",
        "        self.current_generation.sort(key= lambda x: x.fitness)\n",
        "        # parents = self.current_generation[:2]\n",
        "        parents = random.sample(self.current_generation, 2)\n",
        "        return parents\n",
        "\n",
        "    def generate_offspring(self):  # DONE\n",
        "        number_of_offspring_to_create = self.population_size - len(self.current_generation)\n",
        "\n",
        "        # generating new offspring (number of children is equal to the size of the population)\n",
        "        for i in range(0, number_of_offspring_to_create - 1):\n",
        "            new_offspring = self.crossover(self.current_parents)\n",
        "            # mutating a child after generating it\n",
        "            new_offspring.mutate()\n",
        "            # appending newly created and mutated child to the population\n",
        "            self.current_generation.append(new_offspring)\n",
        "\n",
        "        # sorting the population based on the distance\n",
        "        self.current_generation.sort(key= lambda x: x.fitness)\n",
        "        # cutting off the weakest individuals so the population size is the same as in the beginning\n",
        "        self.current_generation = self.current_generation[:self.population_size]\n",
        "        # sorting the population based on the distance\n",
        "        self.current_generation.sort(key= lambda x: x.fitness)"
      ],
      "metadata": {
        "id": "0zsdzd4MqCjB"
      },
      "execution_count": null,
      "outputs": []
    },
    {
      "cell_type": "markdown",
      "source": [
        "# Experiments"
      ],
      "metadata": {
        "id": "J2phAaT7RE58"
      }
    },
    {
      "cell_type": "code",
      "source": [
        "class Experiment:\n",
        "  def __init__(self, population_sizes: list, dataset_names: list, generations: list, repetitions: int):\n",
        "    self.population_sizes = population_sizes\n",
        "    self.generations = generations\n",
        "    self.datasets = self.create_datasets(dataset_names)\n",
        "    self.repetitions = repetitions\n",
        "\n",
        "    self.results_df = pd.DataFrame(columns=['rep', 'gen', 'pop', 'dataset', 'a', 'b', 'c'])\n",
        "\n",
        "  def create_datasets(self, dataset_names):\n",
        "    return [Dataset(name, '/content/drive/MyDrive/tsp/tsp_problems/{}'.format(name)) for name in dataset_names]\n",
        "\n",
        "  def dummy_result(self):\n",
        "    return [1,2,3]\n",
        "\n",
        "  def get_result_df(self) -> pd.DataFrame:\n",
        "    return self.results_df\n",
        "\n",
        "  def run(self):\n",
        "    for dataset in self.datasets:\n",
        "      for pop in self.population_sizes:\n",
        "        for gen in self.generations:\n",
        "          for rep in range(1, self.repetitions + 1):\n",
        "            # print(\"[REP {}] Running the experiment for population size {}, on the {}, for {} generations.\".format(rep, pop, dataset.get_name(), gen))\n",
        "\n",
        "            # Get the dummy data\n",
        "            dummy_data = self.dummy_result()\n",
        "\n",
        "            # Append a row to the results DataFrame\n",
        "            row = [rep, gen, pop, dataset.get_name()] + dummy_data\n",
        "            self.results_df.loc[len(self.results_df)] = row\n",
        "    # self.results_df.to_csv('result.csv', index=False)"
      ],
      "metadata": {
        "id": "1OyS3SobFWn1"
      },
      "execution_count": 53,
      "outputs": []
    },
    {
      "cell_type": "code",
      "source": [
        "three_datasets = ['gr17.tsp', 'att48.tsp']"
      ],
      "metadata": {
        "id": "U5i1P4tpvUbB"
      },
      "execution_count": 54,
      "outputs": []
    },
    {
      "cell_type": "code",
      "source": [
        "repetitions = 100\n",
        "\n",
        "# get different population sizes\n",
        "population_sizes = [20, 50, 100]\n",
        "\n",
        "# get different generations lengths\n",
        "generations = [50, 150, 300]\n",
        "\n",
        "# get all datasets processed\n",
        "datasets = three_datasets\n",
        "\n",
        "# mutation_operator = ReverseMutation()\n",
        "mutation_operators = [DisplacementMutation(), ReverseMutation(), ExchangeMutation(), ShuffleMutation()]\n",
        "\n",
        "experiment = Experiment(population_sizes, datasets, generations, repetitions)\n",
        "\n",
        "experiment.run()\n",
        "\n",
        "data = experiment.get_result_df()\n",
        "\n",
        "PROBABILITY = 0.5"
      ],
      "metadata": {
        "id": "sXjbN4uSMdJ0",
        "colab": {
          "base_uri": "https://localhost:8080/"
        },
        "outputId": "c443b071-bf19-42b5-bea9-21d58667a3ae"
      },
      "execution_count": 55,
      "outputs": [
        {
          "output_type": "stream",
          "name": "stdout",
          "text": [
            ">>> Processing dataset gr17.tsp\n",
            ">>> Processing dataset att48.tsp\n"
          ]
        }
      ]
    },
    {
      "cell_type": "code",
      "source": [
        "data"
      ],
      "metadata": {
        "colab": {
          "base_uri": "https://localhost:8080/",
          "height": 424
        },
        "id": "ZqgKTIACiifW",
        "outputId": "1f61e785-0e21-446f-83c5-c4318aa06a04"
      },
      "execution_count": 56,
      "outputs": [
        {
          "output_type": "execute_result",
          "data": {
            "text/plain": [
              "      rep  gen  pop dataset  a  b  c\n",
              "0       1   50   20    gr17  1  2  3\n",
              "1       2   50   20    gr17  1  2  3\n",
              "2       3   50   20    gr17  1  2  3\n",
              "3       4   50   20    gr17  1  2  3\n",
              "4       5   50   20    gr17  1  2  3\n",
              "...   ...  ...  ...     ... .. .. ..\n",
              "1795   96  300  100   att48  1  2  3\n",
              "1796   97  300  100   att48  1  2  3\n",
              "1797   98  300  100   att48  1  2  3\n",
              "1798   99  300  100   att48  1  2  3\n",
              "1799  100  300  100   att48  1  2  3\n",
              "\n",
              "[1800 rows x 7 columns]"
            ],
            "text/html": [
              "\n",
              "  <div id=\"df-d8bd1d73-ae63-4d88-b541-34b219f1a1a0\" class=\"colab-df-container\">\n",
              "    <div>\n",
              "<style scoped>\n",
              "    .dataframe tbody tr th:only-of-type {\n",
              "        vertical-align: middle;\n",
              "    }\n",
              "\n",
              "    .dataframe tbody tr th {\n",
              "        vertical-align: top;\n",
              "    }\n",
              "\n",
              "    .dataframe thead th {\n",
              "        text-align: right;\n",
              "    }\n",
              "</style>\n",
              "<table border=\"1\" class=\"dataframe\">\n",
              "  <thead>\n",
              "    <tr style=\"text-align: right;\">\n",
              "      <th></th>\n",
              "      <th>rep</th>\n",
              "      <th>gen</th>\n",
              "      <th>pop</th>\n",
              "      <th>dataset</th>\n",
              "      <th>a</th>\n",
              "      <th>b</th>\n",
              "      <th>c</th>\n",
              "    </tr>\n",
              "  </thead>\n",
              "  <tbody>\n",
              "    <tr>\n",
              "      <th>0</th>\n",
              "      <td>1</td>\n",
              "      <td>50</td>\n",
              "      <td>20</td>\n",
              "      <td>gr17</td>\n",
              "      <td>1</td>\n",
              "      <td>2</td>\n",
              "      <td>3</td>\n",
              "    </tr>\n",
              "    <tr>\n",
              "      <th>1</th>\n",
              "      <td>2</td>\n",
              "      <td>50</td>\n",
              "      <td>20</td>\n",
              "      <td>gr17</td>\n",
              "      <td>1</td>\n",
              "      <td>2</td>\n",
              "      <td>3</td>\n",
              "    </tr>\n",
              "    <tr>\n",
              "      <th>2</th>\n",
              "      <td>3</td>\n",
              "      <td>50</td>\n",
              "      <td>20</td>\n",
              "      <td>gr17</td>\n",
              "      <td>1</td>\n",
              "      <td>2</td>\n",
              "      <td>3</td>\n",
              "    </tr>\n",
              "    <tr>\n",
              "      <th>3</th>\n",
              "      <td>4</td>\n",
              "      <td>50</td>\n",
              "      <td>20</td>\n",
              "      <td>gr17</td>\n",
              "      <td>1</td>\n",
              "      <td>2</td>\n",
              "      <td>3</td>\n",
              "    </tr>\n",
              "    <tr>\n",
              "      <th>4</th>\n",
              "      <td>5</td>\n",
              "      <td>50</td>\n",
              "      <td>20</td>\n",
              "      <td>gr17</td>\n",
              "      <td>1</td>\n",
              "      <td>2</td>\n",
              "      <td>3</td>\n",
              "    </tr>\n",
              "    <tr>\n",
              "      <th>...</th>\n",
              "      <td>...</td>\n",
              "      <td>...</td>\n",
              "      <td>...</td>\n",
              "      <td>...</td>\n",
              "      <td>...</td>\n",
              "      <td>...</td>\n",
              "      <td>...</td>\n",
              "    </tr>\n",
              "    <tr>\n",
              "      <th>1795</th>\n",
              "      <td>96</td>\n",
              "      <td>300</td>\n",
              "      <td>100</td>\n",
              "      <td>att48</td>\n",
              "      <td>1</td>\n",
              "      <td>2</td>\n",
              "      <td>3</td>\n",
              "    </tr>\n",
              "    <tr>\n",
              "      <th>1796</th>\n",
              "      <td>97</td>\n",
              "      <td>300</td>\n",
              "      <td>100</td>\n",
              "      <td>att48</td>\n",
              "      <td>1</td>\n",
              "      <td>2</td>\n",
              "      <td>3</td>\n",
              "    </tr>\n",
              "    <tr>\n",
              "      <th>1797</th>\n",
              "      <td>98</td>\n",
              "      <td>300</td>\n",
              "      <td>100</td>\n",
              "      <td>att48</td>\n",
              "      <td>1</td>\n",
              "      <td>2</td>\n",
              "      <td>3</td>\n",
              "    </tr>\n",
              "    <tr>\n",
              "      <th>1798</th>\n",
              "      <td>99</td>\n",
              "      <td>300</td>\n",
              "      <td>100</td>\n",
              "      <td>att48</td>\n",
              "      <td>1</td>\n",
              "      <td>2</td>\n",
              "      <td>3</td>\n",
              "    </tr>\n",
              "    <tr>\n",
              "      <th>1799</th>\n",
              "      <td>100</td>\n",
              "      <td>300</td>\n",
              "      <td>100</td>\n",
              "      <td>att48</td>\n",
              "      <td>1</td>\n",
              "      <td>2</td>\n",
              "      <td>3</td>\n",
              "    </tr>\n",
              "  </tbody>\n",
              "</table>\n",
              "<p>1800 rows × 7 columns</p>\n",
              "</div>\n",
              "    <div class=\"colab-df-buttons\">\n",
              "\n",
              "  <div class=\"colab-df-container\">\n",
              "    <button class=\"colab-df-convert\" onclick=\"convertToInteractive('df-d8bd1d73-ae63-4d88-b541-34b219f1a1a0')\"\n",
              "            title=\"Convert this dataframe to an interactive table.\"\n",
              "            style=\"display:none;\">\n",
              "\n",
              "  <svg xmlns=\"http://www.w3.org/2000/svg\" height=\"24px\" viewBox=\"0 -960 960 960\">\n",
              "    <path d=\"M120-120v-720h720v720H120Zm60-500h600v-160H180v160Zm220 220h160v-160H400v160Zm0 220h160v-160H400v160ZM180-400h160v-160H180v160Zm440 0h160v-160H620v160ZM180-180h160v-160H180v160Zm440 0h160v-160H620v160Z\"/>\n",
              "  </svg>\n",
              "    </button>\n",
              "\n",
              "  <style>\n",
              "    .colab-df-container {\n",
              "      display:flex;\n",
              "      gap: 12px;\n",
              "    }\n",
              "\n",
              "    .colab-df-convert {\n",
              "      background-color: #E8F0FE;\n",
              "      border: none;\n",
              "      border-radius: 50%;\n",
              "      cursor: pointer;\n",
              "      display: none;\n",
              "      fill: #1967D2;\n",
              "      height: 32px;\n",
              "      padding: 0 0 0 0;\n",
              "      width: 32px;\n",
              "    }\n",
              "\n",
              "    .colab-df-convert:hover {\n",
              "      background-color: #E2EBFA;\n",
              "      box-shadow: 0px 1px 2px rgba(60, 64, 67, 0.3), 0px 1px 3px 1px rgba(60, 64, 67, 0.15);\n",
              "      fill: #174EA6;\n",
              "    }\n",
              "\n",
              "    .colab-df-buttons div {\n",
              "      margin-bottom: 4px;\n",
              "    }\n",
              "\n",
              "    [theme=dark] .colab-df-convert {\n",
              "      background-color: #3B4455;\n",
              "      fill: #D2E3FC;\n",
              "    }\n",
              "\n",
              "    [theme=dark] .colab-df-convert:hover {\n",
              "      background-color: #434B5C;\n",
              "      box-shadow: 0px 1px 3px 1px rgba(0, 0, 0, 0.15);\n",
              "      filter: drop-shadow(0px 1px 2px rgba(0, 0, 0, 0.3));\n",
              "      fill: #FFFFFF;\n",
              "    }\n",
              "  </style>\n",
              "\n",
              "    <script>\n",
              "      const buttonEl =\n",
              "        document.querySelector('#df-d8bd1d73-ae63-4d88-b541-34b219f1a1a0 button.colab-df-convert');\n",
              "      buttonEl.style.display =\n",
              "        google.colab.kernel.accessAllowed ? 'block' : 'none';\n",
              "\n",
              "      async function convertToInteractive(key) {\n",
              "        const element = document.querySelector('#df-d8bd1d73-ae63-4d88-b541-34b219f1a1a0');\n",
              "        const dataTable =\n",
              "          await google.colab.kernel.invokeFunction('convertToInteractive',\n",
              "                                                    [key], {});\n",
              "        if (!dataTable) return;\n",
              "\n",
              "        const docLinkHtml = 'Like what you see? Visit the ' +\n",
              "          '<a target=\"_blank\" href=https://colab.research.google.com/notebooks/data_table.ipynb>data table notebook</a>'\n",
              "          + ' to learn more about interactive tables.';\n",
              "        element.innerHTML = '';\n",
              "        dataTable['output_type'] = 'display_data';\n",
              "        await google.colab.output.renderOutput(dataTable, element);\n",
              "        const docLink = document.createElement('div');\n",
              "        docLink.innerHTML = docLinkHtml;\n",
              "        element.appendChild(docLink);\n",
              "      }\n",
              "    </script>\n",
              "  </div>\n",
              "\n",
              "\n",
              "<div id=\"df-24692a27-fe20-40e8-8e58-f40b0f3ab399\">\n",
              "  <button class=\"colab-df-quickchart\" onclick=\"quickchart('df-24692a27-fe20-40e8-8e58-f40b0f3ab399')\"\n",
              "            title=\"Suggest charts.\"\n",
              "            style=\"display:none;\">\n",
              "\n",
              "<svg xmlns=\"http://www.w3.org/2000/svg\" height=\"24px\"viewBox=\"0 0 24 24\"\n",
              "     width=\"24px\">\n",
              "    <g>\n",
              "        <path d=\"M19 3H5c-1.1 0-2 .9-2 2v14c0 1.1.9 2 2 2h14c1.1 0 2-.9 2-2V5c0-1.1-.9-2-2-2zM9 17H7v-7h2v7zm4 0h-2V7h2v10zm4 0h-2v-4h2v4z\"/>\n",
              "    </g>\n",
              "</svg>\n",
              "  </button>\n",
              "\n",
              "<style>\n",
              "  .colab-df-quickchart {\n",
              "      --bg-color: #E8F0FE;\n",
              "      --fill-color: #1967D2;\n",
              "      --hover-bg-color: #E2EBFA;\n",
              "      --hover-fill-color: #174EA6;\n",
              "      --disabled-fill-color: #AAA;\n",
              "      --disabled-bg-color: #DDD;\n",
              "  }\n",
              "\n",
              "  [theme=dark] .colab-df-quickchart {\n",
              "      --bg-color: #3B4455;\n",
              "      --fill-color: #D2E3FC;\n",
              "      --hover-bg-color: #434B5C;\n",
              "      --hover-fill-color: #FFFFFF;\n",
              "      --disabled-bg-color: #3B4455;\n",
              "      --disabled-fill-color: #666;\n",
              "  }\n",
              "\n",
              "  .colab-df-quickchart {\n",
              "    background-color: var(--bg-color);\n",
              "    border: none;\n",
              "    border-radius: 50%;\n",
              "    cursor: pointer;\n",
              "    display: none;\n",
              "    fill: var(--fill-color);\n",
              "    height: 32px;\n",
              "    padding: 0;\n",
              "    width: 32px;\n",
              "  }\n",
              "\n",
              "  .colab-df-quickchart:hover {\n",
              "    background-color: var(--hover-bg-color);\n",
              "    box-shadow: 0 1px 2px rgba(60, 64, 67, 0.3), 0 1px 3px 1px rgba(60, 64, 67, 0.15);\n",
              "    fill: var(--button-hover-fill-color);\n",
              "  }\n",
              "\n",
              "  .colab-df-quickchart-complete:disabled,\n",
              "  .colab-df-quickchart-complete:disabled:hover {\n",
              "    background-color: var(--disabled-bg-color);\n",
              "    fill: var(--disabled-fill-color);\n",
              "    box-shadow: none;\n",
              "  }\n",
              "\n",
              "  .colab-df-spinner {\n",
              "    border: 2px solid var(--fill-color);\n",
              "    border-color: transparent;\n",
              "    border-bottom-color: var(--fill-color);\n",
              "    animation:\n",
              "      spin 1s steps(1) infinite;\n",
              "  }\n",
              "\n",
              "  @keyframes spin {\n",
              "    0% {\n",
              "      border-color: transparent;\n",
              "      border-bottom-color: var(--fill-color);\n",
              "      border-left-color: var(--fill-color);\n",
              "    }\n",
              "    20% {\n",
              "      border-color: transparent;\n",
              "      border-left-color: var(--fill-color);\n",
              "      border-top-color: var(--fill-color);\n",
              "    }\n",
              "    30% {\n",
              "      border-color: transparent;\n",
              "      border-left-color: var(--fill-color);\n",
              "      border-top-color: var(--fill-color);\n",
              "      border-right-color: var(--fill-color);\n",
              "    }\n",
              "    40% {\n",
              "      border-color: transparent;\n",
              "      border-right-color: var(--fill-color);\n",
              "      border-top-color: var(--fill-color);\n",
              "    }\n",
              "    60% {\n",
              "      border-color: transparent;\n",
              "      border-right-color: var(--fill-color);\n",
              "    }\n",
              "    80% {\n",
              "      border-color: transparent;\n",
              "      border-right-color: var(--fill-color);\n",
              "      border-bottom-color: var(--fill-color);\n",
              "    }\n",
              "    90% {\n",
              "      border-color: transparent;\n",
              "      border-bottom-color: var(--fill-color);\n",
              "    }\n",
              "  }\n",
              "</style>\n",
              "\n",
              "  <script>\n",
              "    async function quickchart(key) {\n",
              "      const quickchartButtonEl =\n",
              "        document.querySelector('#' + key + ' button');\n",
              "      quickchartButtonEl.disabled = true;  // To prevent multiple clicks.\n",
              "      quickchartButtonEl.classList.add('colab-df-spinner');\n",
              "      try {\n",
              "        const charts = await google.colab.kernel.invokeFunction(\n",
              "            'suggestCharts', [key], {});\n",
              "      } catch (error) {\n",
              "        console.error('Error during call to suggestCharts:', error);\n",
              "      }\n",
              "      quickchartButtonEl.classList.remove('colab-df-spinner');\n",
              "      quickchartButtonEl.classList.add('colab-df-quickchart-complete');\n",
              "    }\n",
              "    (() => {\n",
              "      let quickchartButtonEl =\n",
              "        document.querySelector('#df-24692a27-fe20-40e8-8e58-f40b0f3ab399 button');\n",
              "      quickchartButtonEl.style.display =\n",
              "        google.colab.kernel.accessAllowed ? 'block' : 'none';\n",
              "    })();\n",
              "  </script>\n",
              "</div>\n",
              "    </div>\n",
              "  </div>\n"
            ]
          },
          "metadata": {},
          "execution_count": 56
        }
      ]
    },
    {
      "cell_type": "code",
      "source": [
        "att48_minimum_distance = 33523\n",
        "p01_minimum_distance = 291"
      ],
      "metadata": {
        "id": "QW43xlrurKZm"
      },
      "execution_count": null,
      "outputs": []
    },
    {
      "cell_type": "code",
      "source": [
        "header = ['repetition', 'dataset name', 'population size', 'generation', 'number of generations', 'best distance', 'worst distance', 'average distance', 'generation fitness']"
      ],
      "metadata": {
        "id": "X_5hAvH5uXst"
      },
      "execution_count": null,
      "outputs": []
    },
    {
      "cell_type": "code",
      "source": [
        "with open('/content/drive/MyDrive/tsp_data/results/p01_results.csv', 'w') as p01_writer:\n",
        "    writer = csv.writer(p01_writer)\n",
        "    writer.writerow(header)"
      ],
      "metadata": {
        "id": "7a5_5hNgwrQA"
      },
      "execution_count": null,
      "outputs": []
    },
    {
      "cell_type": "code",
      "source": [
        "with open('/content/drive/MyDrive/tsp_data/results/att48_results.csv', 'w') as att48_writer:\n",
        "    writer = csv.writer(att48_writer)\n",
        "    writer.writerow(header)"
      ],
      "metadata": {
        "id": "JB3b059yws-b"
      },
      "execution_count": null,
      "outputs": []
    },
    {
      "cell_type": "code",
      "source": [
        "filename = '/content/drive/MyDrive/tsp_data/results/p01_results.csv'\n",
        "\n",
        "best_p01_individuals = {}\n",
        "\n",
        "# run all scenarios for P01\n",
        "for i in range(1, repetitions + 1):\n",
        "    print(\"Repetition #{}\".format(i))\n",
        "    for j in range(len(population_sizes)):\n",
        "        for k in range(len(generations)):\n",
        "            genetic_algorithm_instance = GeneticAlgorithm(pop_size=population_sizes[j],\n",
        "                                                          gen_num=generations[k],\n",
        "                                                          dataset=p01_dataset,\n",
        "                                                          mutation=mutation_operators,\n",
        "                                                          path_to_result_file=filename,\n",
        "                                                          rep=i)\n",
        "            best_individuals_per_gen = genetic_algorithm_instance.run()\n",
        "            dictionary_name = \"rep {}, pop_size {}, generations {}, dataset p01\".format(i, population_sizes[j], generations[k])\n",
        "            best_p01_individuals[dictionary_name] = best_individuals_per_gen"
      ],
      "metadata": {
        "id": "OguMzoftjXJ9"
      },
      "execution_count": null,
      "outputs": []
    },
    {
      "cell_type": "code",
      "source": [
        "filename = '/content/drive/MyDrive/tsp_data/results/att48_results.csv'\n",
        "\n",
        "best_att48_individuals = {}\n",
        "\n",
        "# run all scenarios for ATT48\n",
        "for i in range(1, repetitions + 1):\n",
        "    print(\"Repetition #{}\".format(i))\n",
        "    for j in range(len(population_sizes)):\n",
        "        for k in range(len(generations)):\n",
        "            genetic_algorithm_instance = GeneticAlgorithm(pop_size=population_sizes[j],\n",
        "                                                          gen_num=generations[j],\n",
        "                                                          dataset=att48_dataset,\n",
        "                                                          mutation=mutation_operators,\n",
        "                                                          path_to_result_file=filename,\n",
        "                                                          rep=i)\n",
        "            best_individuals_per_gen = genetic_algorithm_instance.run()\n",
        "            dictionary_name = \"rep {}, pop_size {}, generations {}, dataset att48\".format(i, population_sizes[j], generations[k])\n",
        "            best_att48_individuals[dictionary_name] = best_individuals_per_gen"
      ],
      "metadata": {
        "id": "otpH4JNGjY1h"
      },
      "execution_count": null,
      "outputs": []
    },
    {
      "cell_type": "markdown",
      "source": [
        "# Data Visualisation"
      ],
      "metadata": {
        "id": "l-f7cbnPRI_-"
      }
    },
    {
      "cell_type": "code",
      "source": [
        "import pandas as pd"
      ],
      "metadata": {
        "id": "1Dq4Xxkc55Jy"
      },
      "execution_count": null,
      "outputs": []
    },
    {
      "cell_type": "code",
      "source": [
        "p01_csv = '/content/drive/MyDrive/tsp_data/results/p01_results.csv'"
      ],
      "metadata": {
        "id": "TdJQSvO68OF3"
      },
      "execution_count": null,
      "outputs": []
    },
    {
      "cell_type": "code",
      "source": [
        "att48_csv = '/content/drive/MyDrive/tsp_data/results/att48_results.csv'"
      ],
      "metadata": {
        "id": "DahUJ6ye6w5t"
      },
      "execution_count": null,
      "outputs": []
    },
    {
      "cell_type": "code",
      "source": [
        "p01_result = pd.read_csv(p01_csv)"
      ],
      "metadata": {
        "id": "N6hIQSKF8QIz"
      },
      "execution_count": null,
      "outputs": []
    },
    {
      "cell_type": "code",
      "source": [
        "att48_result = pd.read_csv(att48_csv)"
      ],
      "metadata": {
        "id": "f-xwhXPw57ee"
      },
      "execution_count": null,
      "outputs": []
    },
    {
      "cell_type": "code",
      "source": [
        "p01_result.head()"
      ],
      "metadata": {
        "colab": {
          "base_uri": "https://localhost:8080/",
          "height": 206
        },
        "id": "oxS8dfCg7OUh",
        "outputId": "f8411c92-baa9-416a-f230-12e126d45f90"
      },
      "execution_count": null,
      "outputs": [
        {
          "output_type": "execute_result",
          "data": {
            "text/plain": [
              "   repetition dataset name  population size  generation  \\\n",
              "0           1          p01               20           0   \n",
              "1           1          p01               20           1   \n",
              "2           1          p01               20           2   \n",
              "3           1          p01               20           3   \n",
              "4           1          p01               20           4   \n",
              "\n",
              "   number of generations  best distance  worst distance  average distance  \\\n",
              "0                     20         502.68          692.77        586.121500   \n",
              "1                     20         457.57          581.49        534.683684   \n",
              "2                     20         455.20          536.06        488.391579   \n",
              "3                     20         454.53          535.50        485.579474   \n",
              "4                     20         454.53          535.50        478.418421   \n",
              "\n",
              "   generation fitness  \n",
              "0            11722.43  \n",
              "1            10158.99  \n",
              "2             9279.44  \n",
              "3             9226.01  \n",
              "4             9089.95  "
            ],
            "text/html": [
              "\n",
              "  <div id=\"df-90843d34-c1e9-43a2-9c53-3457946c66c2\">\n",
              "    <div class=\"colab-df-container\">\n",
              "      <div>\n",
              "<style scoped>\n",
              "    .dataframe tbody tr th:only-of-type {\n",
              "        vertical-align: middle;\n",
              "    }\n",
              "\n",
              "    .dataframe tbody tr th {\n",
              "        vertical-align: top;\n",
              "    }\n",
              "\n",
              "    .dataframe thead th {\n",
              "        text-align: right;\n",
              "    }\n",
              "</style>\n",
              "<table border=\"1\" class=\"dataframe\">\n",
              "  <thead>\n",
              "    <tr style=\"text-align: right;\">\n",
              "      <th></th>\n",
              "      <th>repetition</th>\n",
              "      <th>dataset name</th>\n",
              "      <th>population size</th>\n",
              "      <th>generation</th>\n",
              "      <th>number of generations</th>\n",
              "      <th>best distance</th>\n",
              "      <th>worst distance</th>\n",
              "      <th>average distance</th>\n",
              "      <th>generation fitness</th>\n",
              "    </tr>\n",
              "  </thead>\n",
              "  <tbody>\n",
              "    <tr>\n",
              "      <th>0</th>\n",
              "      <td>1</td>\n",
              "      <td>p01</td>\n",
              "      <td>20</td>\n",
              "      <td>0</td>\n",
              "      <td>20</td>\n",
              "      <td>502.68</td>\n",
              "      <td>692.77</td>\n",
              "      <td>586.121500</td>\n",
              "      <td>11722.43</td>\n",
              "    </tr>\n",
              "    <tr>\n",
              "      <th>1</th>\n",
              "      <td>1</td>\n",
              "      <td>p01</td>\n",
              "      <td>20</td>\n",
              "      <td>1</td>\n",
              "      <td>20</td>\n",
              "      <td>457.57</td>\n",
              "      <td>581.49</td>\n",
              "      <td>534.683684</td>\n",
              "      <td>10158.99</td>\n",
              "    </tr>\n",
              "    <tr>\n",
              "      <th>2</th>\n",
              "      <td>1</td>\n",
              "      <td>p01</td>\n",
              "      <td>20</td>\n",
              "      <td>2</td>\n",
              "      <td>20</td>\n",
              "      <td>455.20</td>\n",
              "      <td>536.06</td>\n",
              "      <td>488.391579</td>\n",
              "      <td>9279.44</td>\n",
              "    </tr>\n",
              "    <tr>\n",
              "      <th>3</th>\n",
              "      <td>1</td>\n",
              "      <td>p01</td>\n",
              "      <td>20</td>\n",
              "      <td>3</td>\n",
              "      <td>20</td>\n",
              "      <td>454.53</td>\n",
              "      <td>535.50</td>\n",
              "      <td>485.579474</td>\n",
              "      <td>9226.01</td>\n",
              "    </tr>\n",
              "    <tr>\n",
              "      <th>4</th>\n",
              "      <td>1</td>\n",
              "      <td>p01</td>\n",
              "      <td>20</td>\n",
              "      <td>4</td>\n",
              "      <td>20</td>\n",
              "      <td>454.53</td>\n",
              "      <td>535.50</td>\n",
              "      <td>478.418421</td>\n",
              "      <td>9089.95</td>\n",
              "    </tr>\n",
              "  </tbody>\n",
              "</table>\n",
              "</div>\n",
              "      <button class=\"colab-df-convert\" onclick=\"convertToInteractive('df-90843d34-c1e9-43a2-9c53-3457946c66c2')\"\n",
              "              title=\"Convert this dataframe to an interactive table.\"\n",
              "              style=\"display:none;\">\n",
              "        \n",
              "  <svg xmlns=\"http://www.w3.org/2000/svg\" height=\"24px\"viewBox=\"0 0 24 24\"\n",
              "       width=\"24px\">\n",
              "    <path d=\"M0 0h24v24H0V0z\" fill=\"none\"/>\n",
              "    <path d=\"M18.56 5.44l.94 2.06.94-2.06 2.06-.94-2.06-.94-.94-2.06-.94 2.06-2.06.94zm-11 1L8.5 8.5l.94-2.06 2.06-.94-2.06-.94L8.5 2.5l-.94 2.06-2.06.94zm10 10l.94 2.06.94-2.06 2.06-.94-2.06-.94-.94-2.06-.94 2.06-2.06.94z\"/><path d=\"M17.41 7.96l-1.37-1.37c-.4-.4-.92-.59-1.43-.59-.52 0-1.04.2-1.43.59L10.3 9.45l-7.72 7.72c-.78.78-.78 2.05 0 2.83L4 21.41c.39.39.9.59 1.41.59.51 0 1.02-.2 1.41-.59l7.78-7.78 2.81-2.81c.8-.78.8-2.07 0-2.86zM5.41 20L4 18.59l7.72-7.72 1.47 1.35L5.41 20z\"/>\n",
              "  </svg>\n",
              "      </button>\n",
              "      \n",
              "  <style>\n",
              "    .colab-df-container {\n",
              "      display:flex;\n",
              "      flex-wrap:wrap;\n",
              "      gap: 12px;\n",
              "    }\n",
              "\n",
              "    .colab-df-convert {\n",
              "      background-color: #E8F0FE;\n",
              "      border: none;\n",
              "      border-radius: 50%;\n",
              "      cursor: pointer;\n",
              "      display: none;\n",
              "      fill: #1967D2;\n",
              "      height: 32px;\n",
              "      padding: 0 0 0 0;\n",
              "      width: 32px;\n",
              "    }\n",
              "\n",
              "    .colab-df-convert:hover {\n",
              "      background-color: #E2EBFA;\n",
              "      box-shadow: 0px 1px 2px rgba(60, 64, 67, 0.3), 0px 1px 3px 1px rgba(60, 64, 67, 0.15);\n",
              "      fill: #174EA6;\n",
              "    }\n",
              "\n",
              "    [theme=dark] .colab-df-convert {\n",
              "      background-color: #3B4455;\n",
              "      fill: #D2E3FC;\n",
              "    }\n",
              "\n",
              "    [theme=dark] .colab-df-convert:hover {\n",
              "      background-color: #434B5C;\n",
              "      box-shadow: 0px 1px 3px 1px rgba(0, 0, 0, 0.15);\n",
              "      filter: drop-shadow(0px 1px 2px rgba(0, 0, 0, 0.3));\n",
              "      fill: #FFFFFF;\n",
              "    }\n",
              "  </style>\n",
              "\n",
              "      <script>\n",
              "        const buttonEl =\n",
              "          document.querySelector('#df-90843d34-c1e9-43a2-9c53-3457946c66c2 button.colab-df-convert');\n",
              "        buttonEl.style.display =\n",
              "          google.colab.kernel.accessAllowed ? 'block' : 'none';\n",
              "\n",
              "        async function convertToInteractive(key) {\n",
              "          const element = document.querySelector('#df-90843d34-c1e9-43a2-9c53-3457946c66c2');\n",
              "          const dataTable =\n",
              "            await google.colab.kernel.invokeFunction('convertToInteractive',\n",
              "                                                     [key], {});\n",
              "          if (!dataTable) return;\n",
              "\n",
              "          const docLinkHtml = 'Like what you see? Visit the ' +\n",
              "            '<a target=\"_blank\" href=https://colab.research.google.com/notebooks/data_table.ipynb>data table notebook</a>'\n",
              "            + ' to learn more about interactive tables.';\n",
              "          element.innerHTML = '';\n",
              "          dataTable['output_type'] = 'display_data';\n",
              "          await google.colab.output.renderOutput(dataTable, element);\n",
              "          const docLink = document.createElement('div');\n",
              "          docLink.innerHTML = docLinkHtml;\n",
              "          element.appendChild(docLink);\n",
              "        }\n",
              "      </script>\n",
              "    </div>\n",
              "  </div>\n",
              "  "
            ]
          },
          "metadata": {},
          "execution_count": 351
        }
      ]
    },
    {
      "cell_type": "code",
      "source": [
        "att48_result.head()"
      ],
      "metadata": {
        "colab": {
          "base_uri": "https://localhost:8080/",
          "height": 206
        },
        "id": "uLg_ghQM7Qrk",
        "outputId": "ea426e1d-1400-48cb-d9d0-6cc33375a6bd"
      },
      "execution_count": null,
      "outputs": [
        {
          "output_type": "execute_result",
          "data": {
            "text/plain": [
              "   repetition dataset name  population size  generation  \\\n",
              "0           1        att48               20           0   \n",
              "1           1        att48               20           1   \n",
              "2           1        att48               20           2   \n",
              "3           1        att48               20           3   \n",
              "4           1        att48               20           4   \n",
              "\n",
              "   number of generations  best distance  worst distance  average distance  \\\n",
              "0                     20      122337.03       177082.16     153198.481000   \n",
              "1                     20      116721.29       152534.05     137044.649474   \n",
              "2                     20      116721.29       136537.02     123130.045263   \n",
              "3                     20      116721.29       120229.45     117268.911579   \n",
              "4                     20      116721.29       116721.29     116721.290000   \n",
              "\n",
              "   generation fitness  \n",
              "0          3063969.62  \n",
              "1          2603848.34  \n",
              "2          2339470.86  \n",
              "3          2228109.32  \n",
              "4          2217704.51  "
            ],
            "text/html": [
              "\n",
              "  <div id=\"df-830d51b7-9619-4619-b5a9-0fe71f1dd29e\">\n",
              "    <div class=\"colab-df-container\">\n",
              "      <div>\n",
              "<style scoped>\n",
              "    .dataframe tbody tr th:only-of-type {\n",
              "        vertical-align: middle;\n",
              "    }\n",
              "\n",
              "    .dataframe tbody tr th {\n",
              "        vertical-align: top;\n",
              "    }\n",
              "\n",
              "    .dataframe thead th {\n",
              "        text-align: right;\n",
              "    }\n",
              "</style>\n",
              "<table border=\"1\" class=\"dataframe\">\n",
              "  <thead>\n",
              "    <tr style=\"text-align: right;\">\n",
              "      <th></th>\n",
              "      <th>repetition</th>\n",
              "      <th>dataset name</th>\n",
              "      <th>population size</th>\n",
              "      <th>generation</th>\n",
              "      <th>number of generations</th>\n",
              "      <th>best distance</th>\n",
              "      <th>worst distance</th>\n",
              "      <th>average distance</th>\n",
              "      <th>generation fitness</th>\n",
              "    </tr>\n",
              "  </thead>\n",
              "  <tbody>\n",
              "    <tr>\n",
              "      <th>0</th>\n",
              "      <td>1</td>\n",
              "      <td>att48</td>\n",
              "      <td>20</td>\n",
              "      <td>0</td>\n",
              "      <td>20</td>\n",
              "      <td>122337.03</td>\n",
              "      <td>177082.16</td>\n",
              "      <td>153198.481000</td>\n",
              "      <td>3063969.62</td>\n",
              "    </tr>\n",
              "    <tr>\n",
              "      <th>1</th>\n",
              "      <td>1</td>\n",
              "      <td>att48</td>\n",
              "      <td>20</td>\n",
              "      <td>1</td>\n",
              "      <td>20</td>\n",
              "      <td>116721.29</td>\n",
              "      <td>152534.05</td>\n",
              "      <td>137044.649474</td>\n",
              "      <td>2603848.34</td>\n",
              "    </tr>\n",
              "    <tr>\n",
              "      <th>2</th>\n",
              "      <td>1</td>\n",
              "      <td>att48</td>\n",
              "      <td>20</td>\n",
              "      <td>2</td>\n",
              "      <td>20</td>\n",
              "      <td>116721.29</td>\n",
              "      <td>136537.02</td>\n",
              "      <td>123130.045263</td>\n",
              "      <td>2339470.86</td>\n",
              "    </tr>\n",
              "    <tr>\n",
              "      <th>3</th>\n",
              "      <td>1</td>\n",
              "      <td>att48</td>\n",
              "      <td>20</td>\n",
              "      <td>3</td>\n",
              "      <td>20</td>\n",
              "      <td>116721.29</td>\n",
              "      <td>120229.45</td>\n",
              "      <td>117268.911579</td>\n",
              "      <td>2228109.32</td>\n",
              "    </tr>\n",
              "    <tr>\n",
              "      <th>4</th>\n",
              "      <td>1</td>\n",
              "      <td>att48</td>\n",
              "      <td>20</td>\n",
              "      <td>4</td>\n",
              "      <td>20</td>\n",
              "      <td>116721.29</td>\n",
              "      <td>116721.29</td>\n",
              "      <td>116721.290000</td>\n",
              "      <td>2217704.51</td>\n",
              "    </tr>\n",
              "  </tbody>\n",
              "</table>\n",
              "</div>\n",
              "      <button class=\"colab-df-convert\" onclick=\"convertToInteractive('df-830d51b7-9619-4619-b5a9-0fe71f1dd29e')\"\n",
              "              title=\"Convert this dataframe to an interactive table.\"\n",
              "              style=\"display:none;\">\n",
              "        \n",
              "  <svg xmlns=\"http://www.w3.org/2000/svg\" height=\"24px\"viewBox=\"0 0 24 24\"\n",
              "       width=\"24px\">\n",
              "    <path d=\"M0 0h24v24H0V0z\" fill=\"none\"/>\n",
              "    <path d=\"M18.56 5.44l.94 2.06.94-2.06 2.06-.94-2.06-.94-.94-2.06-.94 2.06-2.06.94zm-11 1L8.5 8.5l.94-2.06 2.06-.94-2.06-.94L8.5 2.5l-.94 2.06-2.06.94zm10 10l.94 2.06.94-2.06 2.06-.94-2.06-.94-.94-2.06-.94 2.06-2.06.94z\"/><path d=\"M17.41 7.96l-1.37-1.37c-.4-.4-.92-.59-1.43-.59-.52 0-1.04.2-1.43.59L10.3 9.45l-7.72 7.72c-.78.78-.78 2.05 0 2.83L4 21.41c.39.39.9.59 1.41.59.51 0 1.02-.2 1.41-.59l7.78-7.78 2.81-2.81c.8-.78.8-2.07 0-2.86zM5.41 20L4 18.59l7.72-7.72 1.47 1.35L5.41 20z\"/>\n",
              "  </svg>\n",
              "      </button>\n",
              "      \n",
              "  <style>\n",
              "    .colab-df-container {\n",
              "      display:flex;\n",
              "      flex-wrap:wrap;\n",
              "      gap: 12px;\n",
              "    }\n",
              "\n",
              "    .colab-df-convert {\n",
              "      background-color: #E8F0FE;\n",
              "      border: none;\n",
              "      border-radius: 50%;\n",
              "      cursor: pointer;\n",
              "      display: none;\n",
              "      fill: #1967D2;\n",
              "      height: 32px;\n",
              "      padding: 0 0 0 0;\n",
              "      width: 32px;\n",
              "    }\n",
              "\n",
              "    .colab-df-convert:hover {\n",
              "      background-color: #E2EBFA;\n",
              "      box-shadow: 0px 1px 2px rgba(60, 64, 67, 0.3), 0px 1px 3px 1px rgba(60, 64, 67, 0.15);\n",
              "      fill: #174EA6;\n",
              "    }\n",
              "\n",
              "    [theme=dark] .colab-df-convert {\n",
              "      background-color: #3B4455;\n",
              "      fill: #D2E3FC;\n",
              "    }\n",
              "\n",
              "    [theme=dark] .colab-df-convert:hover {\n",
              "      background-color: #434B5C;\n",
              "      box-shadow: 0px 1px 3px 1px rgba(0, 0, 0, 0.15);\n",
              "      filter: drop-shadow(0px 1px 2px rgba(0, 0, 0, 0.3));\n",
              "      fill: #FFFFFF;\n",
              "    }\n",
              "  </style>\n",
              "\n",
              "      <script>\n",
              "        const buttonEl =\n",
              "          document.querySelector('#df-830d51b7-9619-4619-b5a9-0fe71f1dd29e button.colab-df-convert');\n",
              "        buttonEl.style.display =\n",
              "          google.colab.kernel.accessAllowed ? 'block' : 'none';\n",
              "\n",
              "        async function convertToInteractive(key) {\n",
              "          const element = document.querySelector('#df-830d51b7-9619-4619-b5a9-0fe71f1dd29e');\n",
              "          const dataTable =\n",
              "            await google.colab.kernel.invokeFunction('convertToInteractive',\n",
              "                                                     [key], {});\n",
              "          if (!dataTable) return;\n",
              "\n",
              "          const docLinkHtml = 'Like what you see? Visit the ' +\n",
              "            '<a target=\"_blank\" href=https://colab.research.google.com/notebooks/data_table.ipynb>data table notebook</a>'\n",
              "            + ' to learn more about interactive tables.';\n",
              "          element.innerHTML = '';\n",
              "          dataTable['output_type'] = 'display_data';\n",
              "          await google.colab.output.renderOutput(dataTable, element);\n",
              "          const docLink = document.createElement('div');\n",
              "          docLink.innerHTML = docLinkHtml;\n",
              "          element.appendChild(docLink);\n",
              "        }\n",
              "      </script>\n",
              "    </div>\n",
              "  </div>\n",
              "  "
            ]
          },
          "metadata": {},
          "execution_count": 352
        }
      ]
    },
    {
      "cell_type": "code",
      "source": [
        "p01_best_coords = [[-0.0000000400893815,0.0000000358808126],\n",
        "[-21.4983260706612533,-7.3194159498090388],\n",
        "[-43.0700258454450875,-14.5548396888330487],\n",
        "[-50.4808382862985496,-7.3744722432402208],\n",
        "[-64.7472605264735108,-21.8981713360336698],\n",
        "[-72.0785319657452987,-0.1815834632498404],\n",
        "[-79.2915791686897506,21.4033307581457670],\n",
        "[-65.0865638413727368,36.0624693073746769],\n",
        "[-57.5687244704708050,43.2505562436354225],\n",
        "[-50.5859026832315024,21.5881966132975371],\n",
        "[-36.0366489745023770,21.6135482886620949],\n",
        "[-29.0584693142401171,43.2167287683090606],\n",
        "[-14.6577381710829471,43.3895496964974043],\n",
        "[-0.1358203773809326,28.7292896751977480],\n",
        "[-0.0000000400893815,0.0000000358808126]]"
      ],
      "metadata": {
        "id": "tdG9jF8Uiiiy"
      },
      "execution_count": null,
      "outputs": []
    },
    {
      "cell_type": "code",
      "source": [
        "p01_point = [Point('point', elem[0], elem[1]) for elem in p01_best_coords]"
      ],
      "metadata": {
        "id": "bxzsLgqgo-US"
      },
      "execution_count": null,
      "outputs": []
    },
    {
      "cell_type": "code",
      "source": [
        "ind_p01 = Individual(p01_point, mutation_operators)"
      ],
      "metadata": {
        "id": "6gH1whNypMWA"
      },
      "execution_count": null,
      "outputs": []
    },
    {
      "cell_type": "code",
      "source": [
        "print(ind_p01.get_fitness())"
      ],
      "metadata": {
        "colab": {
          "base_uri": "https://localhost:8080/"
        },
        "id": "1kEmYx_cpmLI",
        "outputId": "7358108c-bcf2-47ac-8962-d311b6435649"
      },
      "execution_count": null,
      "outputs": [
        {
          "output_type": "stream",
          "name": "stdout",
          "text": [
            "247.69\n"
          ]
        }
      ]
    },
    {
      "cell_type": "code",
      "source": [
        "print(best_p01_individuals['rep 1, pop_size 20, generations 50, dataset p01'])"
      ],
      "metadata": {
        "colab": {
          "base_uri": "https://localhost:8080/"
        },
        "id": "-FOkKImNrXOm",
        "outputId": "18575698-4c4a-4d96-a7b2-1ee7bd934076"
      },
      "execution_count": null,
      "outputs": [
        {
          "output_type": "stream",
          "name": "stdout",
          "text": [
            "[(<__main__.Individual object at 0x7fb089f130d0>, 532.0), (<__main__.Individual object at 0x7fb089f130d0>, 532.0), (<__main__.Individual object at 0x7fb089f13bb0>, 504.33), (<__main__.Individual object at 0x7fb089f13670>, 429.71), (<__main__.Individual object at 0x7fb089f13670>, 429.71), (<__main__.Individual object at 0x7fb089f13670>, 429.71), (<__main__.Individual object at 0x7fb089f13670>, 429.71), (<__main__.Individual object at 0x7fb089f13700>, 382.62), (<__main__.Individual object at 0x7fb089f13700>, 382.62), (<__main__.Individual object at 0x7fb089f13700>, 382.62), (<__main__.Individual object at 0x7fb089f13700>, 382.62), (<__main__.Individual object at 0x7fb089f13700>, 382.62), (<__main__.Individual object at 0x7fb089f13700>, 382.62), (<__main__.Individual object at 0x7fb089f13700>, 382.62), (<__main__.Individual object at 0x7fb089f13820>, 371.71), (<__main__.Individual object at 0x7fb089ef0fa0>, 357.24), (<__main__.Individual object at 0x7fb089ef0fa0>, 357.24), (<__main__.Individual object at 0x7fb089ef0fa0>, 357.24), (<__main__.Individual object at 0x7fb089ef0fa0>, 357.24), (<__main__.Individual object at 0x7fb089ef0fa0>, 357.24), (<__main__.Individual object at 0x7fb089ef0fa0>, 357.24), (<__main__.Individual object at 0x7fb089ef0fa0>, 357.24), (<__main__.Individual object at 0x7fb089ef0fa0>, 357.24), (<__main__.Individual object at 0x7fb089ef0fa0>, 357.24), (<__main__.Individual object at 0x7fb089ef0fa0>, 357.24), (<__main__.Individual object at 0x7fb089ef0fa0>, 357.24), (<__main__.Individual object at 0x7fb089ef0fa0>, 357.24), (<__main__.Individual object at 0x7fb089ef0fa0>, 357.24), (<__main__.Individual object at 0x7fb089ef0fa0>, 357.24), (<__main__.Individual object at 0x7fb089ef0fa0>, 357.24), (<__main__.Individual object at 0x7fb089ef0fa0>, 357.24), (<__main__.Individual object at 0x7fb089ef0fa0>, 357.24), (<__main__.Individual object at 0x7fb089ef0fa0>, 357.24), (<__main__.Individual object at 0x7fb089f0a850>, 355.6), (<__main__.Individual object at 0x7fb089f0a850>, 355.6), (<__main__.Individual object at 0x7fb089f0a850>, 355.6), (<__main__.Individual object at 0x7fb089f0a850>, 355.6), (<__main__.Individual object at 0x7fb089f0a850>, 355.6), (<__main__.Individual object at 0x7fb089f0a850>, 355.6), (<__main__.Individual object at 0x7fb089f0a850>, 355.6), (<__main__.Individual object at 0x7fb089f0a850>, 355.6), (<__main__.Individual object at 0x7fb089f0a850>, 355.6), (<__main__.Individual object at 0x7fb089f0a850>, 355.6), (<__main__.Individual object at 0x7fb089f0a850>, 355.6), (<__main__.Individual object at 0x7fb089f0a850>, 355.6), (<__main__.Individual object at 0x7fb089f0a850>, 355.6), (<__main__.Individual object at 0x7fb089f0a850>, 355.6), (<__main__.Individual object at 0x7fb089f0a850>, 355.6), (<__main__.Individual object at 0x7fb089f0a850>, 355.6), (<__main__.Individual object at 0x7fb089f0a850>, 355.6), (<__main__.Individual object at 0x7fb089f0a850>, 355.6)]\n"
          ]
        }
      ]
    },
    {
      "cell_type": "code",
      "source": [
        "from matplotlib.animation import FuncAnimation"
      ],
      "metadata": {
        "id": "FNYLMraEsMS6"
      },
      "execution_count": null,
      "outputs": []
    },
    {
      "cell_type": "code",
      "source": [
        "mytuple = (1, 'str')"
      ],
      "metadata": {
        "id": "2Zztyv_btSzL"
      },
      "execution_count": null,
      "outputs": []
    },
    {
      "cell_type": "code",
      "source": [
        "current_obj, current_float = mytuple"
      ],
      "metadata": {
        "id": "eEtD2Bg3tWRP"
      },
      "execution_count": null,
      "outputs": []
    },
    {
      "cell_type": "code",
      "source": [
        "current_float"
      ],
      "metadata": {
        "colab": {
          "base_uri": "https://localhost:8080/",
          "height": 35
        },
        "id": "KEDbhd94taNU",
        "outputId": "30ff00af-c49e-4176-b85a-2ae673ebcc10"
      },
      "execution_count": null,
      "outputs": [
        {
          "output_type": "execute_result",
          "data": {
            "text/plain": [
              "'str'"
            ],
            "application/vnd.google.colaboratory.intrinsic+json": {
              "type": "string"
            }
          },
          "metadata": {},
          "execution_count": 431
        }
      ]
    },
    {
      "cell_type": "code",
      "source": [
        "    # def describe(self):\n",
        "    #     fig, ax = plt.subplots()\n",
        "\n",
        "    #     for elem in self.data:\n",
        "    #         print(elem.describe())\n",
        "\n",
        "    #         ax.scatter(elem.get_x(), elem.get_y(), linewidths=1.0)\n",
        "    #         ax.annotate(elem.get_name(), (elem.get_x() + 0.25, elem.get_y() + 0.25))\n",
        "\n",
        "    #     plt.show()"
      ],
      "metadata": {
        "id": "YsyImJbhu7VM"
      },
      "execution_count": null,
      "outputs": []
    },
    {
      "cell_type": "code",
      "source": [
        "fig, ax = plt.subplots()"
      ],
      "metadata": {
        "colab": {
          "base_uri": "https://localhost:8080/",
          "height": 435
        },
        "id": "ZcuJoX7ytIqY",
        "outputId": "bd074967-347b-4219-afcb-41da99350ed7"
      },
      "execution_count": null,
      "outputs": [
        {
          "output_type": "display_data",
          "data": {
            "text/plain": [
              "<Figure size 640x480 with 1 Axes>"
            ],
            "image/png": "[encoded data removed]"
          },
          "metadata": {}
        }
      ]
    },
    {
      "cell_type": "code",
      "source": [
        "def update(frame):\n",
        "    # Clear the previous plot\n",
        "    ax.clear()\n",
        "    # Get the current object and float from the dictionary\n",
        "    current_obj, current_float = best_p01_individuals[frame]\n",
        "    # Plot the current object\n",
        "    ax.plot(current_obj.x_values, current_obj.y_values)\n",
        "    # Set the title of the plot\n",
        "    ax.set_title(f'Object {frame} at float value {current_float}')"
      ],
      "metadata": {
        "id": "VAL-C3GutAFX"
      },
      "execution_count": null,
      "outputs": []
    },
    {
      "cell_type": "code",
      "source": [
        "animation = FuncAnimation(fig, update, frames=my_dict.keys(), repeat=True)"
      ],
      "metadata": {
        "id": "Nr0walEUtOqP"
      },
      "execution_count": null,
      "outputs": []
    },
    {
      "cell_type": "code",
      "source": [
        "one_ind = best_p01_individuals['rep 1, pop_size 20, generations 50, dataset p01'][-1]"
      ],
      "metadata": {
        "id": "fRkz0U4BvMac"
      },
      "execution_count": null,
      "outputs": []
    },
    {
      "cell_type": "code",
      "source": [
        "print(one_ind)"
      ],
      "metadata": {
        "colab": {
          "base_uri": "https://localhost:8080/"
        },
        "id": "IGLcR7BdvUbu",
        "outputId": "ecaa68f6-29b3-442b-befe-6556326bce6f"
      },
      "execution_count": null,
      "outputs": [
        {
          "output_type": "stream",
          "name": "stdout",
          "text": [
            "(<__main__.Individual object at 0x7fb089f0a850>, 355.6)\n"
          ]
        }
      ]
    },
    {
      "cell_type": "code",
      "source": [
        "one_ind[0].describe()"
      ],
      "metadata": {
        "colab": {
          "base_uri": "https://localhost:8080/",
          "height": 966
        },
        "id": "-MR9uYpkvWn0",
        "outputId": "dd8d81be-b830-4f06-8863-b1d84e8c0211"
      },
      "execution_count": null,
      "outputs": [
        {
          "output_type": "stream",
          "name": "stdout",
          "text": [
            "Point B: [-28.87, -0.0]\n",
            "None\n",
            "Point H: [-36.04, 21.61]\n",
            "None\n",
            "Point D: [-14.66, 43.39]\n",
            "None\n",
            "Point F: [-29.06, 43.22]\n",
            "None\n",
            "Point K: [-0.14, 28.73]\n",
            "None\n",
            "Point A: [-0.0, 0.0]\n",
            "None\n",
            "Point O: [-43.07, -14.55]\n",
            "None\n",
            "Point E: [-64.75, -21.9]\n",
            "None\n",
            "Point I: [-50.48, -7.37]\n",
            "None\n",
            "Point J: [-50.59, 21.59]\n",
            "None\n",
            "Point C: [-79.29, 21.4]\n",
            "None\n",
            "Point G: [-72.08, -0.18]\n",
            "None\n",
            "Point L: [-65.09, 36.06]\n",
            "None\n",
            "Point N: [-57.57, 43.25]\n",
            "None\n",
            "Point M: [-21.5, -7.32]\n",
            "None\n"
          ]
        },
        {
          "output_type": "display_data",
          "data": {
            "text/plain": [
              "<Figure size 640x480 with 1 Axes>"
            ],
            "image/png": "[encoded data removed]"
          },
          "metadata": {}
        }
      ]
    }
  ]
}